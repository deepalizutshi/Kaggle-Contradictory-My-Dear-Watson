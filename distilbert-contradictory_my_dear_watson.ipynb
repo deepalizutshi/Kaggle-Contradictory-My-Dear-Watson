{
 "cells": [
  {
   "cell_type": "code",
   "execution_count": 1,
   "id": "0b400798",
   "metadata": {
    "execution": {
     "iopub.execute_input": "2022-12-06T04:48:30.485600Z",
     "iopub.status.busy": "2022-12-06T04:48:30.484852Z",
     "iopub.status.idle": "2022-12-06T04:48:42.689164Z",
     "shell.execute_reply": "2022-12-06T04:48:42.688616Z",
     "shell.execute_reply.started": "2022-12-06T04:29:37.261969Z"
    },
    "papermill": {
     "duration": 12.239021,
     "end_time": "2022-12-06T04:48:42.689327",
     "exception": false,
     "start_time": "2022-12-06T04:48:30.450306",
     "status": "completed"
    },
    "tags": []
   },
   "outputs": [
    {
     "name": "stderr",
     "output_type": "stream",
     "text": [
      "2022-12-06 04:48:31.201143: W tensorflow/stream_executor/platform/default/dso_loader.cc:60] Could not load dynamic library 'libcudart.so.11.0'; dlerror: libcudart.so.11.0: cannot open shared object file: No such file or directory; LD_LIBRARY_PATH: /opt/conda/lib\n",
      "2022-12-06 04:48:31.201259: I tensorflow/stream_executor/cuda/cudart_stub.cc:29] Ignore above cudart dlerror if you do not have a GPU set up on your machine.\n",
      "2022-12-06 04:48:36.411829: I tensorflow/compiler/jit/xla_cpu_device.cc:41] Not creating XLA devices, tf_xla_enable_xla_devices not set\n",
      "2022-12-06 04:48:36.414870: W tensorflow/stream_executor/platform/default/dso_loader.cc:60] Could not load dynamic library 'libcuda.so.1'; dlerror: libcuda.so.1: cannot open shared object file: No such file or directory; LD_LIBRARY_PATH: /opt/conda/lib\n",
      "2022-12-06 04:48:36.414916: W tensorflow/stream_executor/cuda/cuda_driver.cc:326] failed call to cuInit: UNKNOWN ERROR (303)\n",
      "2022-12-06 04:48:36.414938: I tensorflow/stream_executor/cuda/cuda_diagnostics.cc:156] kernel driver does not appear to be running on this host (dca67d55e3ac): /proc/driver/nvidia/version does not exist\n",
      "2022-12-06 04:48:36.417633: I tensorflow/core/platform/cpu_feature_guard.cc:142] This TensorFlow binary is optimized with oneAPI Deep Neural Network Library (oneDNN) to use the following CPU instructions in performance-critical operations:  AVX2 FMA\n",
      "To enable them in other operations, rebuild TensorFlow with the appropriate compiler flags.\n",
      "2022-12-06 04:48:36.419114: I tensorflow/compiler/jit/xla_gpu_device.cc:99] Not creating XLA devices, tf_xla_enable_xla_devices not set\n",
      "2022-12-06 04:48:36.423954: I tensorflow/compiler/jit/xla_gpu_device.cc:99] Not creating XLA devices, tf_xla_enable_xla_devices not set\n",
      "2022-12-06 04:48:36.447016: I tensorflow/core/distributed_runtime/rpc/grpc_channel.cc:301] Initialize GrpcChannelCache for job worker -> {0 -> 10.0.0.2:8470}\n",
      "2022-12-06 04:48:36.447071: I tensorflow/core/distributed_runtime/rpc/grpc_channel.cc:301] Initialize GrpcChannelCache for job localhost -> {0 -> localhost:30019}\n",
      "2022-12-06 04:48:36.473257: I tensorflow/core/distributed_runtime/rpc/grpc_channel.cc:301] Initialize GrpcChannelCache for job worker -> {0 -> 10.0.0.2:8470}\n",
      "2022-12-06 04:48:36.473308: I tensorflow/core/distributed_runtime/rpc/grpc_channel.cc:301] Initialize GrpcChannelCache for job localhost -> {0 -> localhost:30019}\n",
      "2022-12-06 04:48:36.475102: I tensorflow/core/distributed_runtime/rpc/grpc_server_lib.cc:411] Started server with target: grpc://localhost:30019\n"
     ]
    },
    {
     "name": "stdout",
     "output_type": "stream",
     "text": [
      "Connected to TPU Successfully:\n",
      " TPUs Initialised with Replicas: 8\n"
     ]
    }
   ],
   "source": [
    "import tensorflow as tf\n",
    "def Init_TPU():  \n",
    "\n",
    "    try:\n",
    "        resolver = tf.distribute.cluster_resolver.TPUClusterResolver()\n",
    "        tf.config.experimental_connect_to_cluster(resolver)\n",
    "        tf.tpu.experimental.initialize_tpu_system(resolver)\n",
    "        strategy = tf.distribute.experimental.TPUStrategy(resolver)\n",
    "        REPLICAS = strategy.num_replicas_in_sync\n",
    "        print(\"Connected to TPU Successfully:\\n TPUs Initialised with Replicas:\",REPLICAS)\n",
    "        \n",
    "        return strategy\n",
    "    \n",
    "    except ValueError:\n",
    "        \n",
    "        print(\"Connection to TPU Falied\")\n",
    "        print(\"Using default strategy for CPU and single GPU\")\n",
    "        strategy = tf.distribute.get_strategy()\n",
    "        \n",
    "        return strategy\n",
    "    \n",
    "strategy=Init_TPU()"
   ]
  },
  {
   "cell_type": "code",
   "execution_count": 2,
   "id": "bc419880",
   "metadata": {
    "_cell_guid": "b1076dfc-b9ad-4769-8c92-a6c4dae69d19",
    "_uuid": "8f2839f25d086af736a60e9eeb907d3b93b6e0e5",
    "execution": {
     "iopub.execute_input": "2022-12-06T04:48:42.738414Z",
     "iopub.status.busy": "2022-12-06T04:48:42.737756Z",
     "iopub.status.idle": "2022-12-06T04:48:42.739623Z",
     "shell.execute_reply": "2022-12-06T04:48:42.740060Z",
     "shell.execute_reply.started": "2022-12-06T04:29:49.191078Z"
    },
    "papermill": {
     "duration": 0.028183,
     "end_time": "2022-12-06T04:48:42.740241",
     "exception": false,
     "start_time": "2022-12-06T04:48:42.712058",
     "status": "completed"
    },
    "tags": []
   },
   "outputs": [],
   "source": [
    "# import os\n",
    "# for dirname, _, filenames in os.walk('/kaggle/input'):\n",
    "#     for filename in filenames:import pandas as pd\n",
    "#         import numpy as np\n",
    "#         print(os.path.join(dirname, filename))"
   ]
  },
  {
   "cell_type": "code",
   "execution_count": 3,
   "id": "58a14115",
   "metadata": {
    "execution": {
     "iopub.execute_input": "2022-12-06T04:48:42.787775Z",
     "iopub.status.busy": "2022-12-06T04:48:42.787170Z",
     "iopub.status.idle": "2022-12-06T04:48:42.790327Z",
     "shell.execute_reply": "2022-12-06T04:48:42.789922Z",
     "shell.execute_reply.started": "2022-12-06T04:29:49.196999Z"
    },
    "papermill": {
     "duration": 0.028387,
     "end_time": "2022-12-06T04:48:42.790443",
     "exception": false,
     "start_time": "2022-12-06T04:48:42.762056",
     "status": "completed"
    },
    "tags": []
   },
   "outputs": [],
   "source": [
    "import pandas as pd\n",
    "import numpy as np"
   ]
  },
  {
   "cell_type": "code",
   "execution_count": 4,
   "id": "484999a5",
   "metadata": {
    "execution": {
     "iopub.execute_input": "2022-12-06T04:48:42.838589Z",
     "iopub.status.busy": "2022-12-06T04:48:42.837995Z",
     "iopub.status.idle": "2022-12-06T04:48:42.991233Z",
     "shell.execute_reply": "2022-12-06T04:48:42.990637Z",
     "shell.execute_reply.started": "2022-12-06T04:30:23.197536Z"
    },
    "papermill": {
     "duration": 0.179316,
     "end_time": "2022-12-06T04:48:42.991364",
     "exception": false,
     "start_time": "2022-12-06T04:48:42.812048",
     "status": "completed"
    },
    "tags": []
   },
   "outputs": [],
   "source": [
    "train=pd.read_csv(\"/kaggle/input/contradictory-my-dear-watson/train.csv\")\n",
    "test=pd.read_csv(\"/kaggle/input/contradictory-my-dear-watson/test.csv\")"
   ]
  },
  {
   "cell_type": "code",
   "execution_count": 5,
   "id": "e162277c",
   "metadata": {
    "execution": {
     "iopub.execute_input": "2022-12-06T04:48:43.041764Z",
     "iopub.status.busy": "2022-12-06T04:48:43.041092Z",
     "iopub.status.idle": "2022-12-06T04:48:43.924330Z",
     "shell.execute_reply": "2022-12-06T04:48:43.923725Z",
     "shell.execute_reply.started": "2022-12-06T04:30:23.399437Z"
    },
    "papermill": {
     "duration": 0.909725,
     "end_time": "2022-12-06T04:48:43.924468",
     "exception": false,
     "start_time": "2022-12-06T04:48:43.014743",
     "status": "completed"
    },
    "tags": []
   },
   "outputs": [
    {
     "data": {
      "text/plain": [
       "<AxesSubplot:title={'center':'Number of instances in each label in Training Data'}, xlabel='label', ylabel='count'>"
      ]
     },
     "execution_count": 5,
     "metadata": {},
     "output_type": "execute_result"
    },
    {
     "data": {
      "image/png": "[encoded data removed]",
      "text/plain": [
       "<Figure size 360x288 with 1 Axes>"
      ]
     },
     "metadata": {
      "needs_background": "light"
     },
     "output_type": "display_data"
    }
   ],
   "source": [
    "import matplotlib.pyplot as plt\n",
    "import seaborn as sns\n",
    "plt.figure(figsize=(5,4))\n",
    "plt.title(\"Number of instances in each label in Training Data\")\n",
    "sns.countplot(x=train['label'],palette=\"mako\")"
   ]
  },
  {
   "cell_type": "code",
   "execution_count": 6,
   "id": "4db4ee6d",
   "metadata": {
    "execution": {
     "iopub.execute_input": "2022-12-06T04:48:43.990934Z",
     "iopub.status.busy": "2022-12-06T04:48:43.978980Z",
     "iopub.status.idle": "2022-12-06T04:48:44.334045Z",
     "shell.execute_reply": "2022-12-06T04:48:44.333535Z",
     "shell.execute_reply.started": "2022-12-06T04:30:24.260941Z"
    },
    "papermill": {
     "duration": 0.387397,
     "end_time": "2022-12-06T04:48:44.334193",
     "exception": false,
     "start_time": "2022-12-06T04:48:43.946796",
     "status": "completed"
    },
    "tags": []
   },
   "outputs": [
    {
     "data": {
      "text/plain": [
       "<AxesSubplot:title={'center':'Number of instances in each language-Training Data'}, xlabel='language', ylabel='count'>"
      ]
     },
     "execution_count": 6,
     "metadata": {},
     "output_type": "execute_result"
    },
    {
     "data": {
      "image/png": "[encoded data removed]",
      "text/plain": [
       "<Figure size 1080x360 with 1 Axes>"
      ]
     },
     "metadata": {
      "needs_background": "light"
     },
     "output_type": "display_data"
    }
   ],
   "source": [
    "plt.figure(figsize=(15,5))\n",
    "plt.title(\"Number of instances in each language-Training Data\")\n",
    "sns.countplot(x=train['language'],hue=train['label'])"
   ]
  },
  {
   "cell_type": "code",
   "execution_count": 7,
   "id": "10fdeafe",
   "metadata": {
    "execution": {
     "iopub.execute_input": "2022-12-06T04:48:44.386781Z",
     "iopub.status.busy": "2022-12-06T04:48:44.386040Z",
     "iopub.status.idle": "2022-12-06T04:48:44.797954Z",
     "shell.execute_reply": "2022-12-06T04:48:44.797231Z",
     "shell.execute_reply.started": "2022-12-06T04:30:24.736562Z"
    },
    "papermill": {
     "duration": 0.439616,
     "end_time": "2022-12-06T04:48:44.798081",
     "exception": false,
     "start_time": "2022-12-06T04:48:44.358465",
     "status": "completed"
    },
    "scrolled": true,
    "tags": []
   },
   "outputs": [
    {
     "data": {
      "text/plain": [
       "<AxesSubplot:title={'center':'Number of instances in each language-Testing Data'}, xlabel='language', ylabel='count'>"
      ]
     },
     "execution_count": 7,
     "metadata": {},
     "output_type": "execute_result"
    },
    {
     "data": {
      "image/png": "[encoded data removed]",
      "text/plain": [
       "<Figure size 1080x360 with 1 Axes>"
      ]
     },
     "metadata": {
      "needs_background": "light"
     },
     "output_type": "display_data"
    }
   ],
   "source": [
    "plt.figure(figsize=(15,5))\n",
    "plt.title(\"Number of instances in each language-Testing Data\")\n",
    "sns.countplot(x=test['language'])"
   ]
  },
  {
   "cell_type": "code",
   "execution_count": 8,
   "id": "d63536dd",
   "metadata": {
    "execution": {
     "iopub.execute_input": "2022-12-06T04:48:44.854219Z",
     "iopub.status.busy": "2022-12-06T04:48:44.848813Z",
     "iopub.status.idle": "2022-12-06T04:48:44.856424Z",
     "shell.execute_reply": "2022-12-06T04:48:44.855983Z",
     "shell.execute_reply.started": "2022-12-06T04:30:25.199460Z"
    },
    "papermill": {
     "duration": 0.034683,
     "end_time": "2022-12-06T04:48:44.856610",
     "exception": false,
     "start_time": "2022-12-06T04:48:44.821927",
     "status": "completed"
    },
    "tags": []
   },
   "outputs": [],
   "source": [
    "import re\n",
    "import html\n",
    "import unicodedata\n",
    "import string\n",
    "def to_lowercase(text):\n",
    "    return text.lower()\n",
    "def remove_punctuation(text):\n",
    "    translator = str.maketrans('', '', string.punctuation)\n",
    "    return text.translate(translator)\n",
    "def remove_whitespaces(text):\n",
    "    return text.strip()\n",
    "def remove_special_chars(text):\n",
    "    re1 = re.compile(r'  +')\n",
    "    x1 = text.lower().replace('#39;', \"'\").replace('amp;', '&').replace('#146;', \"'\").replace(\n",
    "        'nbsp;', ' ').replace('#36;', '$').replace('\\\\n', \"\\n\").replace('quot;', \"'\").replace(\n",
    "        '<br />', \"\\n\").replace('\\\\\"', '\"').replace('<unk>', 'u_n').replace(' @.@ ', '.').replace(\n",
    "        ' @-@ ', '-').replace('\\\\', ' \\\\ ')\n",
    "    return re1.sub(' ', html.unescape(x1))"
   ]
  },
  {
   "cell_type": "code",
   "execution_count": 9,
   "id": "a28542fe",
   "metadata": {
    "execution": {
     "iopub.execute_input": "2022-12-06T04:48:44.910496Z",
     "iopub.status.busy": "2022-12-06T04:48:44.909778Z",
     "iopub.status.idle": "2022-12-06T04:48:44.911643Z",
     "shell.execute_reply": "2022-12-06T04:48:44.912030Z",
     "shell.execute_reply.started": "2022-12-06T04:30:25.208919Z"
    },
    "papermill": {
     "duration": 0.03091,
     "end_time": "2022-12-06T04:48:44.912165",
     "exception": false,
     "start_time": "2022-12-06T04:48:44.881255",
     "status": "completed"
    },
    "tags": []
   },
   "outputs": [],
   "source": [
    "def cleaned_text( text):\n",
    "    text = remove_special_chars(text)\n",
    "    text = remove_punctuation(text)\n",
    "    text = to_lowercase(text)\n",
    "    text = remove_whitespaces(text)\n",
    "    return ''.join(text)"
   ]
  },
  {
   "cell_type": "code",
   "execution_count": 10,
   "id": "cbf53c0a",
   "metadata": {
    "execution": {
     "iopub.execute_input": "2022-12-06T04:48:44.963448Z",
     "iopub.status.busy": "2022-12-06T04:48:44.962740Z",
     "iopub.status.idle": "2022-12-06T04:48:45.431997Z",
     "shell.execute_reply": "2022-12-06T04:48:45.432425Z",
     "shell.execute_reply.started": "2022-12-06T04:30:25.225279Z"
    },
    "papermill": {
     "duration": 0.496573,
     "end_time": "2022-12-06T04:48:45.432595",
     "exception": false,
     "start_time": "2022-12-06T04:48:44.936022",
     "status": "completed"
    },
    "tags": []
   },
   "outputs": [],
   "source": [
    "train['premise'] = train['premise'].apply(lambda x: cleaned_text(x))\n",
    "train['hypothesis'] = train['hypothesis'].apply(lambda x: cleaned_text(x))\n",
    "test['premise'] = test['premise'].apply(lambda x: cleaned_text(x))\n",
    "test['hypothesis'] = test['hypothesis'].apply(lambda x: cleaned_text(x))"
   ]
  },
  {
   "cell_type": "code",
   "execution_count": 11,
   "id": "b67a1524",
   "metadata": {
    "execution": {
     "iopub.execute_input": "2022-12-06T04:48:45.484371Z",
     "iopub.status.busy": "2022-12-06T04:48:45.483662Z",
     "iopub.status.idle": "2022-12-06T04:48:46.011544Z",
     "shell.execute_reply": "2022-12-06T04:48:46.010988Z",
     "shell.execute_reply.started": "2022-12-06T04:30:25.809088Z"
    },
    "papermill": {
     "duration": 0.55466,
     "end_time": "2022-12-06T04:48:46.011685",
     "exception": false,
     "start_time": "2022-12-06T04:48:45.457025",
     "status": "completed"
    },
    "tags": []
   },
   "outputs": [],
   "source": [
    "from tensorflow.keras.layers import Dense, Input\n",
    "from tensorflow.keras.models import Model\n",
    "from tensorflow.keras.optimizers import Adam, Adamax\n",
    "from transformers import DistilBertTokenizer, TFDistilBertModel    \n",
    "from sklearn.model_selection import train_test_split\n",
    "from tabulate import tabulate"
   ]
  },
  {
   "cell_type": "code",
   "execution_count": 12,
   "id": "1ce3f6b6",
   "metadata": {
    "execution": {
     "iopub.execute_input": "2022-12-06T04:48:46.066013Z",
     "iopub.status.busy": "2022-12-06T04:48:46.065416Z",
     "iopub.status.idle": "2022-12-06T04:48:46.069775Z",
     "shell.execute_reply": "2022-12-06T04:48:46.069276Z",
     "shell.execute_reply.started": "2022-12-06T04:30:26.309430Z"
    },
    "papermill": {
     "duration": 0.033861,
     "end_time": "2022-12-06T04:48:46.069900",
     "exception": false,
     "start_time": "2022-12-06T04:48:46.036039",
     "status": "completed"
    },
    "tags": []
   },
   "outputs": [],
   "source": [
    "distilbert = 'distilbert-base-multilingual-cased'"
   ]
  },
  {
   "cell_type": "code",
   "execution_count": 13,
   "id": "033d9c3c",
   "metadata": {
    "execution": {
     "iopub.execute_input": "2022-12-06T04:48:46.124068Z",
     "iopub.status.busy": "2022-12-06T04:48:46.123306Z",
     "iopub.status.idle": "2022-12-06T04:48:47.434420Z",
     "shell.execute_reply": "2022-12-06T04:48:47.433950Z",
     "shell.execute_reply.started": "2022-12-06T04:30:45.573393Z"
    },
    "papermill": {
     "duration": 1.340266,
     "end_time": "2022-12-06T04:48:47.434558",
     "exception": false,
     "start_time": "2022-12-06T04:48:46.094292",
     "status": "completed"
    },
    "tags": []
   },
   "outputs": [
    {
     "data": {
      "application/vnd.jupyter.widget-view+json": {
       "model_id": "5450ee23bbff4011abb4583775c66e21",
       "version_major": 2,
       "version_minor": 0
      },
      "text/plain": [
       "Downloading:   0%|          | 0.00/996k [00:00<?, ?B/s]"
      ]
     },
     "metadata": {},
     "output_type": "display_data"
    },
    {
     "data": {
      "application/vnd.jupyter.widget-view+json": {
       "model_id": "d5ceb28bc9ce4e698f80ce910b465785",
       "version_major": 2,
       "version_minor": 0
      },
      "text/plain": [
       "Downloading:   0%|          | 0.00/29.0 [00:00<?, ?B/s]"
      ]
     },
     "metadata": {},
     "output_type": "display_data"
    },
    {
     "data": {
      "application/vnd.jupyter.widget-view+json": {
       "model_id": "6dd69215bd054da09e4c6abb15c03c57",
       "version_major": 2,
       "version_minor": 0
      },
      "text/plain": [
       "Downloading:   0%|          | 0.00/1.96M [00:00<?, ?B/s]"
      ]
     },
     "metadata": {},
     "output_type": "display_data"
    }
   ],
   "source": [
    "distilbert_tokenizer = DistilBertTokenizer.from_pretrained(distilbert)"
   ]
  },
  {
   "cell_type": "code",
   "execution_count": 14,
   "id": "0249ac91",
   "metadata": {
    "execution": {
     "iopub.execute_input": "2022-12-06T04:48:47.492913Z",
     "iopub.status.busy": "2022-12-06T04:48:47.492147Z",
     "iopub.status.idle": "2022-12-06T04:48:47.496266Z",
     "shell.execute_reply": "2022-12-06T04:48:47.495829Z",
     "shell.execute_reply.started": "2022-12-06T04:30:47.051601Z"
    },
    "papermill": {
     "duration": 0.03619,
     "end_time": "2022-12-06T04:48:47.496379",
     "exception": false,
     "start_time": "2022-12-06T04:48:47.460189",
     "status": "completed"
    },
    "tags": []
   },
   "outputs": [
    {
     "name": "stdout",
     "output_type": "stream",
     "text": [
      "DistilBERT Model Tokenizer Output: [48060, 117, 11590, 51555, 19229, 106]\n"
     ]
    }
   ],
   "source": [
    "sentence = 'Amazing, My Dear Watson!'\n",
    "print(\"DistilBERT Model Tokenizer Output:\",distilbert_tokenizer.convert_tokens_to_ids(list(distilbert_tokenizer.tokenize(sentence))))"
   ]
  },
  {
   "cell_type": "code",
   "execution_count": 15,
   "id": "c8946796",
   "metadata": {
    "execution": {
     "iopub.execute_input": "2022-12-06T04:48:47.554213Z",
     "iopub.status.busy": "2022-12-06T04:48:47.553371Z",
     "iopub.status.idle": "2022-12-06T04:48:47.570540Z",
     "shell.execute_reply": "2022-12-06T04:48:47.571026Z",
     "shell.execute_reply.started": "2022-12-06T04:30:47.060124Z"
    },
    "papermill": {
     "duration": 0.048965,
     "end_time": "2022-12-06T04:48:47.571191",
     "exception": false,
     "start_time": "2022-12-06T04:48:47.522226",
     "status": "completed"
    },
    "tags": []
   },
   "outputs": [],
   "source": [
    "train_data = train[['premise','hypothesis']].values.tolist()\n",
    "test_data = test[['premise','hypothesis']].values.tolist()"
   ]
  },
  {
   "cell_type": "code",
   "execution_count": 16,
   "id": "f8d0be50",
   "metadata": {
    "execution": {
     "iopub.execute_input": "2022-12-06T04:48:47.626944Z",
     "iopub.status.busy": "2022-12-06T04:48:47.626067Z",
     "iopub.status.idle": "2022-12-06T04:49:01.414734Z",
     "shell.execute_reply": "2022-12-06T04:49:01.414096Z",
     "shell.execute_reply.started": "2022-12-06T04:30:47.709556Z"
    },
    "papermill": {
     "duration": 13.817836,
     "end_time": "2022-12-06T04:49:01.414881",
     "exception": false,
     "start_time": "2022-12-06T04:48:47.597045",
     "status": "completed"
    },
    "tags": []
   },
   "outputs": [
    {
     "name": "stderr",
     "output_type": "stream",
     "text": [
      "Truncation was not explicitly activated but `max_length` is provided a specific value, please use `truncation=True` to explicitly truncate examples to max length. Defaulting to 'longest_first' truncation strategy. If you encode pairs of sequences (GLUE-style) with the tokenizer you can select this strategy more precisely by providing a specific strategy to `truncation`.\n",
      "/opt/conda/lib/python3.7/site-packages/transformers/tokenization_utils_base.py:2079: FutureWarning: The `pad_to_max_length` argument is deprecated and will be removed in a future version, use `padding=True` or `padding='longest'` to pad to the longest sequence in the batch, or use `padding='max_length'` to pad to a max length. In this case, you can give a specific length with `max_length` (e.g. `max_length=45`) or leave max_length to None to pad to the maximal input size of the model (e.g. 512 for Bert).\n",
      "  FutureWarning,\n"
     ]
    }
   ],
   "source": [
    "max_len = 20  \n",
    "\n",
    "train_data_encode = distilbert_tokenizer.batch_encode_plus(train_data, pad_to_max_length=True, max_length=max_len)\n",
    "test_data_encode = distilbert_tokenizer.batch_encode_plus(test_data, pad_to_max_length=True, max_length=max_len)"
   ]
  },
  {
   "cell_type": "code",
   "execution_count": 17,
   "id": "1a4f6b10",
   "metadata": {
    "execution": {
     "iopub.execute_input": "2022-12-06T04:49:01.471320Z",
     "iopub.status.busy": "2022-12-06T04:49:01.470783Z",
     "iopub.status.idle": "2022-12-06T04:49:01.479242Z",
     "shell.execute_reply": "2022-12-06T04:49:01.479700Z",
     "shell.execute_reply.started": "2022-12-06T04:31:03.405197Z"
    },
    "papermill": {
     "duration": 0.038216,
     "end_time": "2022-12-06T04:49:01.479934",
     "exception": false,
     "start_time": "2022-12-06T04:49:01.441718",
     "status": "completed"
    },
    "tags": []
   },
   "outputs": [],
   "source": [
    "X_train, X_val, y_train, y_val = train_test_split(train_data_encode['input_ids'], train.label.values, test_size=0.1)\n",
    "\n",
    "X_test = test_data_encode['input_ids']"
   ]
  },
  {
   "cell_type": "code",
   "execution_count": 18,
   "id": "f58632b5",
   "metadata": {
    "execution": {
     "iopub.execute_input": "2022-12-06T04:49:01.536782Z",
     "iopub.status.busy": "2022-12-06T04:49:01.536151Z",
     "iopub.status.idle": "2022-12-06T04:49:02.552694Z",
     "shell.execute_reply": "2022-12-06T04:49:02.553171Z",
     "shell.execute_reply.started": "2022-12-06T04:31:03.415468Z"
    },
    "papermill": {
     "duration": 1.046244,
     "end_time": "2022-12-06T04:49:02.553331",
     "exception": false,
     "start_time": "2022-12-06T04:49:01.507087",
     "status": "completed"
    },
    "tags": []
   },
   "outputs": [],
   "source": [
    "AUTO = tf.data.experimental.AUTOTUNE\n",
    "batch_size = 16 * strategy.num_replicas_in_sync\n",
    "\n",
    "train_dataset = (tf.data.Dataset.from_tensor_slices((X_train, y_train)).repeat().shuffle(3072).batch(batch_size).prefetch(AUTO))\n",
    "val_dataset = (tf.data.Dataset.from_tensor_slices((X_val, y_val)).batch(batch_size).prefetch(AUTO))\n",
    "\n",
    "test_dataset = (tf.data.Dataset.from_tensor_slices(X_test).batch(batch_size))"
   ]
  },
  {
   "cell_type": "code",
   "execution_count": 19,
   "id": "eb290724",
   "metadata": {
    "execution": {
     "iopub.execute_input": "2022-12-06T04:49:02.609583Z",
     "iopub.status.busy": "2022-12-06T04:49:02.608887Z",
     "iopub.status.idle": "2022-12-06T04:49:02.616124Z",
     "shell.execute_reply": "2022-12-06T04:49:02.615360Z",
     "shell.execute_reply.started": "2022-12-06T04:31:04.576931Z"
    },
    "papermill": {
     "duration": 0.036603,
     "end_time": "2022-12-06T04:49:02.616368",
     "exception": false,
     "start_time": "2022-12-06T04:49:02.579765",
     "status": "completed"
    },
    "tags": []
   },
   "outputs": [],
   "source": [
    "def build_model(strategy,transformer):\n",
    "    with strategy.scope():\n",
    "        transformer_encoder = TFDistilBertModel.from_pretrained(transformer)  #Pretrained BERT Transformer Model\n",
    "        \n",
    "        input_layer = Input(shape=(max_len,), dtype=tf.int32, name=\"input_layer\")\n",
    "        \n",
    "        sequence_output = transformer_encoder(input_layer)[0]\n",
    "        \n",
    "        class_token = sequence_output[:, 0, :]\n",
    "        \n",
    "        output_layer = Dense(3, activation='softmax')(class_token)\n",
    "        \n",
    "        model = Model(inputs=input_layer, outputs=output_layer)\n",
    "        \n",
    "        model.compile(\n",
    "            Adamax(lr=1e-6), \n",
    "            loss='sparse_categorical_crossentropy', \n",
    "            metrics=['accuracy']\n",
    "        )\n",
    "        \n",
    "        return model"
   ]
  },
  {
   "cell_type": "code",
   "execution_count": 20,
   "id": "6307a51e",
   "metadata": {
    "execution": {
     "iopub.execute_input": "2022-12-06T04:49:02.675482Z",
     "iopub.status.busy": "2022-12-06T04:49:02.674898Z",
     "iopub.status.idle": "2022-12-06T04:49:56.847613Z",
     "shell.execute_reply": "2022-12-06T04:49:56.848325Z",
     "shell.execute_reply.started": "2022-12-06T04:31:12.459943Z"
    },
    "papermill": {
     "duration": 54.205003,
     "end_time": "2022-12-06T04:49:56.848870",
     "exception": false,
     "start_time": "2022-12-06T04:49:02.643867",
     "status": "completed"
    },
    "tags": []
   },
   "outputs": [
    {
     "data": {
      "application/vnd.jupyter.widget-view+json": {
       "model_id": "fe37ec6382d7454e9c4453c9b5f00e08",
       "version_major": 2,
       "version_minor": 0
      },
      "text/plain": [
       "Downloading:   0%|          | 0.00/466 [00:00<?, ?B/s]"
      ]
     },
     "metadata": {},
     "output_type": "display_data"
    },
    {
     "data": {
      "application/vnd.jupyter.widget-view+json": {
       "model_id": "11e48d581ebb41b28df3aa763c1b3008",
       "version_major": 2,
       "version_minor": 0
      },
      "text/plain": [
       "Downloading:   0%|          | 0.00/911M [00:00<?, ?B/s]"
      ]
     },
     "metadata": {},
     "output_type": "display_data"
    },
    {
     "name": "stderr",
     "output_type": "stream",
     "text": [
      "2022-12-06 04:49:34.462005: W tensorflow/python/util/util.cc:348] Sets are not currently considered sequences, but this may change in the future, so consider avoiding using them.\n",
      "Some layers from the model checkpoint at distilbert-base-multilingual-cased were not used when initializing TFDistilBertModel: ['vocab_projector', 'vocab_transform', 'activation_13', 'vocab_layer_norm']\n",
      "- This IS expected if you are initializing TFDistilBertModel from the checkpoint of a model trained on another task or with another architecture (e.g. initializing a BertForSequenceClassification model from a BertForPreTraining model).\n",
      "- This IS NOT expected if you are initializing TFDistilBertModel from the checkpoint of a model that you expect to be exactly identical (initializing a BertForSequenceClassification model from a BertForSequenceClassification model).\n",
      "All the layers of TFDistilBertModel were initialized from the model checkpoint at distilbert-base-multilingual-cased.\n",
      "If your task is similar to the task the model of the checkpoint was trained on, you can already use TFDistilBertModel for predictions without further training.\n"
     ]
    }
   ],
   "source": [
    "model = build_model(strategy,distilbert)"
   ]
  },
  {
   "cell_type": "code",
   "execution_count": 21,
   "id": "26dc6bcb",
   "metadata": {
    "execution": {
     "iopub.execute_input": "2022-12-06T04:49:56.923012Z",
     "iopub.status.busy": "2022-12-06T04:49:56.922205Z",
     "iopub.status.idle": "2022-12-06T04:49:56.928324Z",
     "shell.execute_reply": "2022-12-06T04:49:56.927676Z",
     "shell.execute_reply.started": "2022-12-06T04:32:07.034023Z"
    },
    "papermill": {
     "duration": 0.047406,
     "end_time": "2022-12-06T04:49:56.928468",
     "exception": false,
     "start_time": "2022-12-06T04:49:56.881062",
     "status": "completed"
    },
    "tags": []
   },
   "outputs": [
    {
     "name": "stdout",
     "output_type": "stream",
     "text": [
      "Model: \"model\"\n",
      "_________________________________________________________________\n",
      "Layer (type)                 Output Shape              Param #   \n",
      "=================================================================\n",
      "input_layer (InputLayer)     [(None, 20)]              0         \n",
      "_________________________________________________________________\n",
      "tf_distil_bert_model (TFDist TFBaseModelOutput(last_hi 134734080 \n",
      "_________________________________________________________________\n",
      "tf.__operators__.getitem (Sl (None, 768)               0         \n",
      "_________________________________________________________________\n",
      "dense (Dense)                (None, 3)                 2307      \n",
      "=================================================================\n",
      "Total params: 134,736,387\n",
      "Trainable params: 134,736,387\n",
      "Non-trainable params: 0\n",
      "_________________________________________________________________\n"
     ]
    }
   ],
   "source": [
    "model.summary()"
   ]
  },
  {
   "cell_type": "code",
   "execution_count": 22,
   "id": "02c1900d",
   "metadata": {
    "execution": {
     "iopub.execute_input": "2022-12-06T04:49:56.990502Z",
     "iopub.status.busy": "2022-12-06T04:49:56.989917Z",
     "iopub.status.idle": "2022-12-06T04:49:56.993137Z",
     "shell.execute_reply": "2022-12-06T04:49:56.993612Z",
     "shell.execute_reply.started": "2022-12-06T04:32:07.053271Z"
    },
    "papermill": {
     "duration": 0.035871,
     "end_time": "2022-12-06T04:49:56.993802",
     "exception": false,
     "start_time": "2022-12-06T04:49:56.957931",
     "status": "completed"
    },
    "tags": []
   },
   "outputs": [],
   "source": [
    "early_stop = tf.keras.callbacks.EarlyStopping(patience=4,restore_best_weights=True)"
   ]
  },
  {
   "cell_type": "code",
   "execution_count": 23,
   "id": "0050bf1f",
   "metadata": {
    "execution": {
     "iopub.execute_input": "2022-12-06T04:49:57.054466Z",
     "iopub.status.busy": "2022-12-06T04:49:57.053778Z",
     "iopub.status.idle": "2022-12-06T04:55:58.077306Z",
     "shell.execute_reply": "2022-12-06T04:55:58.076754Z",
     "shell.execute_reply.started": "2022-12-06T04:42:48.225041Z"
    },
    "papermill": {
     "duration": 361.055091,
     "end_time": "2022-12-06T04:55:58.077457",
     "exception": false,
     "start_time": "2022-12-06T04:49:57.022366",
     "status": "completed"
    },
    "tags": []
   },
   "outputs": [
    {
     "name": "stdout",
     "output_type": "stream",
     "text": [
      "Epoch 1/50\n",
      "94/94 [==============================] - 49s 127ms/step - loss: 1.1532 - accuracy: 0.3163 - val_loss: 1.1142 - val_accuracy: 0.3168\n",
      "Epoch 2/50\n",
      "94/94 [==============================] - 5s 55ms/step - loss: 1.1248 - accuracy: 0.3211 - val_loss: 1.1100 - val_accuracy: 0.3284\n",
      "Epoch 3/50\n",
      "94/94 [==============================] - 5s 54ms/step - loss: 1.1174 - accuracy: 0.3358 - val_loss: 1.1072 - val_accuracy: 0.3309\n",
      "Epoch 4/50\n",
      "94/94 [==============================] - 5s 54ms/step - loss: 1.1137 - accuracy: 0.3358 - val_loss: 1.1045 - val_accuracy: 0.3358\n",
      "Epoch 5/50\n",
      "94/94 [==============================] - 5s 55ms/step - loss: 1.1116 - accuracy: 0.3471 - val_loss: 1.1028 - val_accuracy: 0.3416\n",
      "Epoch 6/50\n",
      "94/94 [==============================] - 5s 54ms/step - loss: 1.1125 - accuracy: 0.3352 - val_loss: 1.1020 - val_accuracy: 0.3432\n",
      "Epoch 7/50\n",
      "94/94 [==============================] - 5s 56ms/step - loss: 1.1093 - accuracy: 0.3430 - val_loss: 1.1006 - val_accuracy: 0.3507\n",
      "Epoch 8/50\n",
      "94/94 [==============================] - 5s 54ms/step - loss: 1.1029 - accuracy: 0.3431 - val_loss: 1.0993 - val_accuracy: 0.3474\n",
      "Epoch 9/50\n",
      "94/94 [==============================] - 5s 55ms/step - loss: 1.1019 - accuracy: 0.3541 - val_loss: 1.0988 - val_accuracy: 0.3589\n",
      "Epoch 10/50\n",
      "94/94 [==============================] - 5s 55ms/step - loss: 1.1026 - accuracy: 0.3578 - val_loss: 1.0966 - val_accuracy: 0.3639\n",
      "Epoch 11/50\n",
      "94/94 [==============================] - 6s 60ms/step - loss: 1.0926 - accuracy: 0.3778 - val_loss: 1.0959 - val_accuracy: 0.3738\n",
      "Epoch 12/50\n",
      "94/94 [==============================] - 5s 54ms/step - loss: 1.0973 - accuracy: 0.3677 - val_loss: 1.0953 - val_accuracy: 0.3589\n",
      "Epoch 13/50\n",
      "94/94 [==============================] - 5s 55ms/step - loss: 1.0942 - accuracy: 0.3687 - val_loss: 1.0939 - val_accuracy: 0.3729\n",
      "Epoch 14/50\n",
      "94/94 [==============================] - 5s 55ms/step - loss: 1.0951 - accuracy: 0.3720 - val_loss: 1.0929 - val_accuracy: 0.3729\n",
      "Epoch 15/50\n",
      "94/94 [==============================] - 5s 55ms/step - loss: 1.0885 - accuracy: 0.3873 - val_loss: 1.0916 - val_accuracy: 0.3853\n",
      "Epoch 16/50\n",
      "94/94 [==============================] - 5s 54ms/step - loss: 1.0905 - accuracy: 0.3779 - val_loss: 1.0904 - val_accuracy: 0.3870\n",
      "Epoch 17/50\n",
      "94/94 [==============================] - 5s 54ms/step - loss: 1.0837 - accuracy: 0.3920 - val_loss: 1.0892 - val_accuracy: 0.3845\n",
      "Epoch 18/50\n",
      "94/94 [==============================] - 5s 54ms/step - loss: 1.0782 - accuracy: 0.4017 - val_loss: 1.0874 - val_accuracy: 0.3870\n",
      "Epoch 19/50\n",
      "94/94 [==============================] - 5s 55ms/step - loss: 1.0753 - accuracy: 0.4150 - val_loss: 1.0859 - val_accuracy: 0.3886\n",
      "Epoch 20/50\n",
      "94/94 [==============================] - 5s 56ms/step - loss: 1.0736 - accuracy: 0.4075 - val_loss: 1.0832 - val_accuracy: 0.4026\n",
      "Epoch 21/50\n",
      "94/94 [==============================] - 5s 54ms/step - loss: 1.0690 - accuracy: 0.4245 - val_loss: 1.0804 - val_accuracy: 0.4002\n",
      "Epoch 22/50\n",
      "94/94 [==============================] - 5s 55ms/step - loss: 1.0716 - accuracy: 0.4186 - val_loss: 1.0778 - val_accuracy: 0.4092\n",
      "Epoch 23/50\n",
      "94/94 [==============================] - 5s 55ms/step - loss: 1.0644 - accuracy: 0.4374 - val_loss: 1.0761 - val_accuracy: 0.4134\n",
      "Epoch 24/50\n",
      "94/94 [==============================] - 5s 54ms/step - loss: 1.0606 - accuracy: 0.4397 - val_loss: 1.0738 - val_accuracy: 0.4200\n",
      "Epoch 25/50\n",
      "94/94 [==============================] - 5s 54ms/step - loss: 1.0587 - accuracy: 0.4422 - val_loss: 1.0714 - val_accuracy: 0.4216\n",
      "Epoch 26/50\n",
      "94/94 [==============================] - 5s 54ms/step - loss: 1.0591 - accuracy: 0.4398 - val_loss: 1.0700 - val_accuracy: 0.4175\n",
      "Epoch 27/50\n",
      "94/94 [==============================] - 5s 54ms/step - loss: 1.0539 - accuracy: 0.4447 - val_loss: 1.0668 - val_accuracy: 0.4274\n",
      "Epoch 28/50\n",
      "94/94 [==============================] - 5s 55ms/step - loss: 1.0467 - accuracy: 0.4505 - val_loss: 1.0648 - val_accuracy: 0.4257\n",
      "Epoch 29/50\n",
      "94/94 [==============================] - 5s 54ms/step - loss: 1.0422 - accuracy: 0.4545 - val_loss: 1.0623 - val_accuracy: 0.4323\n",
      "Epoch 30/50\n",
      "94/94 [==============================] - 5s 55ms/step - loss: 1.0361 - accuracy: 0.4709 - val_loss: 1.0590 - val_accuracy: 0.4323\n",
      "Epoch 31/50\n",
      "94/94 [==============================] - 6s 61ms/step - loss: 1.0398 - accuracy: 0.4585 - val_loss: 1.0584 - val_accuracy: 0.4340\n",
      "Epoch 32/50\n",
      "94/94 [==============================] - 5s 55ms/step - loss: 1.0328 - accuracy: 0.4793 - val_loss: 1.0568 - val_accuracy: 0.4356\n",
      "Epoch 33/50\n",
      "94/94 [==============================] - 5s 55ms/step - loss: 1.0351 - accuracy: 0.4633 - val_loss: 1.0565 - val_accuracy: 0.4348\n",
      "Epoch 34/50\n",
      "94/94 [==============================] - 5s 54ms/step - loss: 1.0277 - accuracy: 0.4735 - val_loss: 1.0551 - val_accuracy: 0.4373\n",
      "Epoch 35/50\n",
      "94/94 [==============================] - 5s 54ms/step - loss: 1.0242 - accuracy: 0.4757 - val_loss: 1.0564 - val_accuracy: 0.4340\n",
      "Epoch 36/50\n",
      "94/94 [==============================] - 5s 54ms/step - loss: 1.0251 - accuracy: 0.4752 - val_loss: 1.0561 - val_accuracy: 0.4323\n",
      "Epoch 37/50\n",
      "94/94 [==============================] - 5s 54ms/step - loss: 1.0236 - accuracy: 0.4795 - val_loss: 1.0549 - val_accuracy: 0.4373\n",
      "Epoch 38/50\n",
      "94/94 [==============================] - 5s 54ms/step - loss: 1.0168 - accuracy: 0.4865 - val_loss: 1.0529 - val_accuracy: 0.4455\n",
      "Epoch 39/50\n",
      "94/94 [==============================] - 5s 54ms/step - loss: 1.0155 - accuracy: 0.4876 - val_loss: 1.0521 - val_accuracy: 0.4422\n",
      "Epoch 40/50\n",
      "94/94 [==============================] - 5s 54ms/step - loss: 1.0239 - accuracy: 0.4797 - val_loss: 1.0517 - val_accuracy: 0.4422\n",
      "Epoch 41/50\n",
      "94/94 [==============================] - 5s 55ms/step - loss: 1.0122 - accuracy: 0.4864 - val_loss: 1.0510 - val_accuracy: 0.4389\n",
      "Epoch 42/50\n",
      "94/94 [==============================] - 5s 54ms/step - loss: 1.0091 - accuracy: 0.4918 - val_loss: 1.0510 - val_accuracy: 0.4398\n",
      "Epoch 43/50\n",
      "94/94 [==============================] - 5s 55ms/step - loss: 1.0084 - accuracy: 0.5009 - val_loss: 1.0510 - val_accuracy: 0.4431\n",
      "Epoch 44/50\n",
      "94/94 [==============================] - 5s 55ms/step - loss: 1.0031 - accuracy: 0.4964 - val_loss: 1.0501 - val_accuracy: 0.4406\n",
      "Epoch 45/50\n",
      "94/94 [==============================] - 5s 55ms/step - loss: 1.0040 - accuracy: 0.4961 - val_loss: 1.0501 - val_accuracy: 0.4464\n",
      "Epoch 46/50\n",
      "94/94 [==============================] - 5s 54ms/step - loss: 1.0000 - accuracy: 0.4996 - val_loss: 1.0510 - val_accuracy: 0.4505\n",
      "Epoch 47/50\n",
      "94/94 [==============================] - 5s 54ms/step - loss: 1.0023 - accuracy: 0.5031 - val_loss: 1.0500 - val_accuracy: 0.4431\n",
      "Epoch 48/50\n",
      "94/94 [==============================] - 5s 55ms/step - loss: 0.9933 - accuracy: 0.5129 - val_loss: 1.0492 - val_accuracy: 0.4455\n",
      "Epoch 49/50\n",
      "94/94 [==============================] - 6s 61ms/step - loss: 0.9961 - accuracy: 0.5024 - val_loss: 1.0486 - val_accuracy: 0.4472\n",
      "Epoch 50/50\n",
      "94/94 [==============================] - 5s 55ms/step - loss: 0.9967 - accuracy: 0.5011 - val_loss: 1.0476 - val_accuracy: 0.4398\n"
     ]
    }
   ],
   "source": [
    "epochs = 50\n",
    "n_steps = len(train_data) // batch_size \n",
    "\n",
    "history=model.fit(train_dataset, \n",
    "          steps_per_epoch = n_steps, \n",
    "          validation_data = val_dataset,\n",
    "          callbacks=[early_stop],epochs = epochs,verbose=1)"
   ]
  },
  {
   "cell_type": "code",
   "execution_count": 24,
   "id": "affba2e1",
   "metadata": {
    "execution": {
     "iopub.execute_input": "2022-12-06T04:55:59.352457Z",
     "iopub.status.busy": "2022-12-06T04:55:59.333556Z",
     "iopub.status.idle": "2022-12-06T04:55:59.528322Z",
     "shell.execute_reply": "2022-12-06T04:55:59.527800Z",
     "shell.execute_reply.started": "2022-12-06T04:43:36.690559Z"
    },
    "papermill": {
     "duration": 0.82878,
     "end_time": "2022-12-06T04:55:59.528441",
     "exception": false,
     "start_time": "2022-12-06T04:55:58.699661",
     "status": "completed"
    },
    "tags": []
   },
   "outputs": [
    {
     "data": {
      "text/plain": [
       "<matplotlib.legend.Legend at 0x7fbc84e493d0>"
      ]
     },
     "execution_count": 24,
     "metadata": {},
     "output_type": "execute_result"
    },
    {
     "data": {
      "image/png": "[encoded data removed]",
      "text/plain": [
       "<Figure size 432x288 with 1 Axes>"
      ]
     },
     "metadata": {
      "needs_background": "light"
     },
     "output_type": "display_data"
    }
   ],
   "source": [
    "plt.plot(history.history['loss'], label='Training Loss')\n",
    "plt.plot(history.history['val_loss'], label = 'Validation Loss')\n",
    "plt.xlabel('Epoch')\n",
    "plt.ylabel('Loss')\n",
    "plt.ylim([0, 2])\n",
    "plt.legend(loc='lower right')"
   ]
  },
  {
   "cell_type": "code",
   "execution_count": 25,
   "id": "a6f7d551",
   "metadata": {
    "execution": {
     "iopub.execute_input": "2022-12-06T04:56:00.777651Z",
     "iopub.status.busy": "2022-12-06T04:56:00.777073Z",
     "iopub.status.idle": "2022-12-06T04:56:00.950192Z",
     "shell.execute_reply": "2022-12-06T04:56:00.949616Z",
     "shell.execute_reply.started": "2022-12-06T04:43:41.239983Z"
    },
    "papermill": {
     "duration": 0.79791,
     "end_time": "2022-12-06T04:56:00.950324",
     "exception": false,
     "start_time": "2022-12-06T04:56:00.152414",
     "status": "completed"
    },
    "tags": []
   },
   "outputs": [
    {
     "data": {
      "text/plain": [
       "<matplotlib.legend.Legend at 0x7fbc8f6f1a50>"
      ]
     },
     "execution_count": 25,
     "metadata": {},
     "output_type": "execute_result"
    },
    {
     "data": {
      "image/png": "[encoded data removed]",
      "text/plain": [
       "<Figure size 432x288 with 1 Axes>"
      ]
     },
     "metadata": {
      "needs_background": "light"
     },
     "output_type": "display_data"
    }
   ],
   "source": [
    "plt.plot(history.history['accuracy'], label='Training Accuracy')\n",
    "plt.plot(history.history['val_accuracy'], label = 'Validation Accuracy')\n",
    "plt.xlabel('Epoch')\n",
    "plt.ylabel('Accuracy')\n",
    "plt.ylim([0, 1])\n",
    "plt.legend(loc='lower right')"
   ]
  },
  {
   "cell_type": "code",
   "execution_count": 26,
   "id": "c4b4f511",
   "metadata": {
    "execution": {
     "iopub.execute_input": "2022-12-06T04:56:02.206802Z",
     "iopub.status.busy": "2022-12-06T04:56:02.206079Z",
     "iopub.status.idle": "2022-12-06T04:56:09.177739Z",
     "shell.execute_reply": "2022-12-06T04:56:09.177115Z",
     "shell.execute_reply.started": "2022-12-06T04:43:47.244894Z"
    },
    "papermill": {
     "duration": 7.605125,
     "end_time": "2022-12-06T04:56:09.177871",
     "exception": false,
     "start_time": "2022-12-06T04:56:01.572746",
     "status": "completed"
    },
    "tags": []
   },
   "outputs": [
    {
     "name": "stdout",
     "output_type": "stream",
     "text": [
      "41/41 [==============================] - 7s 121ms/step\n"
     ]
    }
   ],
   "source": [
    "results=model.predict(test_dataset,verbose=1)"
   ]
  },
  {
   "cell_type": "code",
   "execution_count": 27,
   "id": "56ac1423",
   "metadata": {
    "execution": {
     "iopub.execute_input": "2022-12-06T04:56:10.435133Z",
     "iopub.status.busy": "2022-12-06T04:56:10.434414Z",
     "iopub.status.idle": "2022-12-06T04:56:10.437289Z",
     "shell.execute_reply": "2022-12-06T04:56:10.436810Z",
     "shell.execute_reply.started": "2022-12-06T04:43:55.973941Z"
    },
    "papermill": {
     "duration": 0.639718,
     "end_time": "2022-12-06T04:56:10.437417",
     "exception": false,
     "start_time": "2022-12-06T04:56:09.797699",
     "status": "completed"
    },
    "tags": []
   },
   "outputs": [],
   "source": [
    "predicted_class=results.argmax(axis=1)"
   ]
  },
  {
   "cell_type": "code",
   "execution_count": 28,
   "id": "e7a30c27",
   "metadata": {
    "execution": {
     "iopub.execute_input": "2022-12-06T04:56:11.692835Z",
     "iopub.status.busy": "2022-12-06T04:56:11.692106Z",
     "iopub.status.idle": "2022-12-06T04:56:11.701396Z",
     "shell.execute_reply": "2022-12-06T04:56:11.700755Z",
     "shell.execute_reply.started": "2022-12-06T04:44:27.776916Z"
    },
    "papermill": {
     "duration": 0.64049,
     "end_time": "2022-12-06T04:56:11.701567",
     "exception": false,
     "start_time": "2022-12-06T04:56:11.061077",
     "status": "completed"
    },
    "tags": []
   },
   "outputs": [],
   "source": [
    "submission=pd.DataFrame()\n",
    "submission['id']=test['id']\n",
    "submission['prediction']=predicted_class"
   ]
  },
  {
   "cell_type": "code",
   "execution_count": 29,
   "id": "5ae9eb89",
   "metadata": {
    "execution": {
     "iopub.execute_input": "2022-12-06T04:56:13.047738Z",
     "iopub.status.busy": "2022-12-06T04:56:13.045164Z",
     "iopub.status.idle": "2022-12-06T04:56:13.059366Z",
     "shell.execute_reply": "2022-12-06T04:56:13.058842Z",
     "shell.execute_reply.started": "2022-12-06T04:44:31.498092Z"
    },
    "papermill": {
     "duration": 0.648488,
     "end_time": "2022-12-06T04:56:13.059489",
     "exception": false,
     "start_time": "2022-12-06T04:56:12.411001",
     "status": "completed"
    },
    "tags": []
   },
   "outputs": [
    {
     "data": {
      "text/html": [
       "<div>\n",
       "<style scoped>\n",
       "    .dataframe tbody tr th:only-of-type {\n",
       "        vertical-align: middle;\n",
       "    }\n",
       "\n",
       "    .dataframe tbody tr th {\n",
       "        vertical-align: top;\n",
       "    }\n",
       "\n",
       "    .dataframe thead th {\n",
       "        text-align: right;\n",
       "    }\n",
       "</style>\n",
       "<table border=\"1\" class=\"dataframe\">\n",
       "  <thead>\n",
       "    <tr style=\"text-align: right;\">\n",
       "      <th></th>\n",
       "      <th>id</th>\n",
       "      <th>prediction</th>\n",
       "    </tr>\n",
       "  </thead>\n",
       "  <tbody>\n",
       "    <tr>\n",
       "      <th>0</th>\n",
       "      <td>c6d58c3f69</td>\n",
       "      <td>2</td>\n",
       "    </tr>\n",
       "    <tr>\n",
       "      <th>1</th>\n",
       "      <td>cefcc82292</td>\n",
       "      <td>1</td>\n",
       "    </tr>\n",
       "    <tr>\n",
       "      <th>2</th>\n",
       "      <td>e98005252c</td>\n",
       "      <td>1</td>\n",
       "    </tr>\n",
       "    <tr>\n",
       "      <th>3</th>\n",
       "      <td>58518c10ba</td>\n",
       "      <td>0</td>\n",
       "    </tr>\n",
       "    <tr>\n",
       "      <th>4</th>\n",
       "      <td>c32b0d16df</td>\n",
       "      <td>2</td>\n",
       "    </tr>\n",
       "  </tbody>\n",
       "</table>\n",
       "</div>"
      ],
      "text/plain": [
       "           id  prediction\n",
       "0  c6d58c3f69           2\n",
       "1  cefcc82292           1\n",
       "2  e98005252c           1\n",
       "3  58518c10ba           0\n",
       "4  c32b0d16df           2"
      ]
     },
     "execution_count": 29,
     "metadata": {},
     "output_type": "execute_result"
    }
   ],
   "source": [
    "submission.head()"
   ]
  },
  {
   "cell_type": "code",
   "execution_count": 30,
   "id": "102e1d7b",
   "metadata": {
    "execution": {
     "iopub.execute_input": "2022-12-06T04:56:14.317945Z",
     "iopub.status.busy": "2022-12-06T04:56:14.316974Z",
     "iopub.status.idle": "2022-12-06T04:56:14.330046Z",
     "shell.execute_reply": "2022-12-06T04:56:14.330578Z",
     "shell.execute_reply.started": "2022-12-06T04:47:26.248519Z"
    },
    "papermill": {
     "duration": 0.644027,
     "end_time": "2022-12-06T04:56:14.330764",
     "exception": false,
     "start_time": "2022-12-06T04:56:13.686737",
     "status": "completed"
    },
    "tags": []
   },
   "outputs": [],
   "source": [
    "submission.to_csv(\"submission.csv\",index=False)"
   ]
  }
 ],
 "metadata": {
  "kernelspec": {
   "display_name": "Python 3",
   "language": "python",
   "name": "python3"
  },
  "language_info": {
   "codemirror_mode": {
    "name": "ipython",
    "version": 3
   },
   "file_extension": ".py",
   "mimetype": "text/x-python",
   "name": "python",
   "nbconvert_exporter": "python",
   "pygments_lexer": "ipython3",
   "version": "3.7.10"
  },
  "papermill": {
   "default_parameters": {},
   "duration": 475.0312,
   "end_time": "2022-12-06T04:56:18.221481",
   "environment_variables": {},
   "exception": null,
   "input_path": "__notebook__.ipynb",
   "output_path": "__notebook__.ipynb",
   "parameters": {},
   "start_time": "2022-12-06T04:48:23.190281",
   "version": "2.3.3"
  },
  "widgets": {
   "application/vnd.jupyter.widget-state+json": {
    "state": {
     "11e48d581ebb41b28df3aa763c1b3008": {
      "model_module": "@jupyter-widgets/controls",
      "model_module_version": "1.5.0",
      "model_name": "HBoxModel",
      "state": {
       "_dom_classes": [],
       "_model_module": "@jupyter-widgets/controls",
       "_model_module_version": "1.5.0",
       "_model_name": "HBoxModel",
       "_view_count": null,
       "_view_module": "@jupyter-widgets/controls",
       "_view_module_version": "1.5.0",
       "_view_name": "HBoxView",
       "box_style": "",
       "children": [
        "IPY_MODEL_764b48e32bb74d28b278f5e8a50c328b",
        "IPY_MODEL_98aa233c8f904ad19d83370eb7c48be2",
        "IPY_MODEL_14a9480d5a544064998b3e1679603db3"
       ],
       "layout": "IPY_MODEL_7a4c9ff021d94728b50bb90a2ca1bcab"
      }
     },
     "1381053e46e645df9c91eb65cedbfabf": {
      "model_module": "@jupyter-widgets/base",
      "model_module_version": "1.2.0",
      "model_name": "LayoutModel",
      "state": {
       "_model_module": "@jupyter-widgets/base",
       "_model_module_version": "1.2.0",
       "_model_name": "LayoutModel",
       "_view_count": null,
       "_view_module": "@jupyter-widgets/base",
       "_view_module_version": "1.2.0",
       "_view_name": "LayoutView",
       "align_content": null,
       "align_items": null,
       "align_self": null,
       "border": null,
       "bottom": null,
       "display": null,
       "flex": null,
       "flex_flow": null,
       "grid_area": null,
       "grid_auto_columns": null,
       "grid_auto_flow": null,
       "grid_auto_rows": null,
       "grid_column": null,
       "grid_gap": null,
       "grid_row": null,
       "grid_template_areas": null,
       "grid_template_columns": null,
       "grid_template_rows": null,
       "height": null,
       "justify_content": null,
       "justify_items": null,
       "left": null,
       "margin": null,
       "max_height": null,
       "max_width": null,
       "min_height": null,
       "min_width": null,
       "object_fit": null,
       "object_position": null,
       "order": null,
       "overflow": null,
       "overflow_x": null,
       "overflow_y": null,
       "padding": null,
       "right": null,
       "top": null,
       "visibility": null,
       "width": null
      }
     },
     "14a9480d5a544064998b3e1679603db3": {
      "model_module": "@jupyter-widgets/controls",
      "model_module_version": "1.5.0",
      "model_name": "HTMLModel",
      "state": {
       "_dom_classes": [],
       "_model_module": "@jupyter-widgets/controls",
       "_model_module_version": "1.5.0",
       "_model_name": "HTMLModel",
       "_view_count": null,
       "_view_module": "@jupyter-widgets/controls",
       "_view_module_version": "1.5.0",
       "_view_name": "HTMLView",
       "description": "",
       "description_tooltip": null,
       "layout": "IPY_MODEL_d88724d9a982497fad3006d29c7ba2a9",
       "placeholder": "​",
       "style": "IPY_MODEL_14fcc9855e404f03b108368fff977a6c",
       "value": " 911M/911M [00:31&lt;00:00, 31.8MB/s]"
      }
     },
     "14fcc9855e404f03b108368fff977a6c": {
      "model_module": "@jupyter-widgets/controls",
      "model_module_version": "1.5.0",
      "model_name": "DescriptionStyleModel",
      "state": {
       "_model_module": "@jupyter-widgets/controls",
       "_model_module_version": "1.5.0",
       "_model_name": "DescriptionStyleModel",
       "_view_count": null,
       "_view_module": "@jupyter-widgets/base",
       "_view_module_version": "1.2.0",
       "_view_name": "StyleView",
       "description_width": ""
      }
     },
     "19e9c0c8f5884352a14e7649f58fb054": {
      "model_module": "@jupyter-widgets/base",
      "model_module_version": "1.2.0",
      "model_name": "LayoutModel",
      "state": {
       "_model_module": "@jupyter-widgets/base",
       "_model_module_version": "1.2.0",
       "_model_name": "LayoutModel",
       "_view_count": null,
       "_view_module": "@jupyter-widgets/base",
       "_view_module_version": "1.2.0",
       "_view_name": "LayoutView",
       "align_content": null,
       "align_items": null,
       "align_self": null,
       "border": null,
       "bottom": null,
       "display": null,
       "flex": null,
       "flex_flow": null,
       "grid_area": null,
       "grid_auto_columns": null,
       "grid_auto_flow": null,
       "grid_auto_rows": null,
       "grid_column": null,
       "grid_gap": null,
       "grid_row": null,
       "grid_template_areas": null,
       "grid_template_columns": null,
       "grid_template_rows": null,
       "height": null,
       "justify_content": null,
       "justify_items": null,
       "left": null,
       "margin": null,
       "max_height": null,
       "max_width": null,
       "min_height": null,
       "min_width": null,
       "object_fit": null,
       "object_position": null,
       "order": null,
       "overflow": null,
       "overflow_x": null,
       "overflow_y": null,
       "padding": null,
       "right": null,
       "top": null,
       "visibility": null,
       "width": null
      }
     },
     "1a801d47e8854ba7b9c1a01039b9cec7": {
      "model_module": "@jupyter-widgets/base",
      "model_module_version": "1.2.0",
      "model_name": "LayoutModel",
      "state": {
       "_model_module": "@jupyter-widgets/base",
       "_model_module_version": "1.2.0",
       "_model_name": "LayoutModel",
       "_view_count": null,
       "_view_module": "@jupyter-widgets/base",
       "_view_module_version": "1.2.0",
       "_view_name": "LayoutView",
       "align_content": null,
       "align_items": null,
       "align_self": null,
       "border": null,
       "bottom": null,
       "display": null,
       "flex": null,
       "flex_flow": null,
       "grid_area": null,
       "grid_auto_columns": null,
       "grid_auto_flow": null,
       "grid_auto_rows": null,
       "grid_column": null,
       "grid_gap": null,
       "grid_row": null,
       "grid_template_areas": null,
       "grid_template_columns": null,
       "grid_template_rows": null,
       "height": null,
       "justify_content": null,
       "justify_items": null,
       "left": null,
       "margin": null,
       "max_height": null,
       "max_width": null,
       "min_height": null,
       "min_width": null,
       "object_fit": null,
       "object_position": null,
       "order": null,
       "overflow": null,
       "overflow_x": null,
       "overflow_y": null,
       "padding": null,
       "right": null,
       "top": null,
       "visibility": null,
       "width": null
      }
     },
     "1ca84d9d2ee1436d8455da6e27e1b5e3": {
      "model_module": "@jupyter-widgets/controls",
      "model_module_version": "1.5.0",
      "model_name": "HTMLModel",
      "state": {
       "_dom_classes": [],
       "_model_module": "@jupyter-widgets/controls",
       "_model_module_version": "1.5.0",
       "_model_name": "HTMLModel",
       "_view_count": null,
       "_view_module": "@jupyter-widgets/controls",
       "_view_module_version": "1.5.0",
       "_view_name": "HTMLView",
       "description": "",
       "description_tooltip": null,
       "layout": "IPY_MODEL_19e9c0c8f5884352a14e7649f58fb054",
       "placeholder": "​",
       "style": "IPY_MODEL_6934622076104b2daf21d0703d5756b4",
       "value": " 996k/996k [00:00&lt;00:00, 2.66MB/s]"
      }
     },
     "1de641820b25430a99487a000081b622": {
      "model_module": "@jupyter-widgets/controls",
      "model_module_version": "1.5.0",
      "model_name": "HTMLModel",
      "state": {
       "_dom_classes": [],
       "_model_module": "@jupyter-widgets/controls",
       "_model_module_version": "1.5.0",
       "_model_name": "HTMLModel",
       "_view_count": null,
       "_view_module": "@jupyter-widgets/controls",
       "_view_module_version": "1.5.0",
       "_view_name": "HTMLView",
       "description": "",
       "description_tooltip": null,
       "layout": "IPY_MODEL_1a801d47e8854ba7b9c1a01039b9cec7",
       "placeholder": "​",
       "style": "IPY_MODEL_cfaa4fb75c114263a965ede1b1186cdf",
       "value": " 29.0/29.0 [00:00&lt;00:00, 1.12kB/s]"
      }
     },
     "2fa2853a4738422c8cf5ee298414b191": {
      "model_module": "@jupyter-widgets/base",
      "model_module_version": "1.2.0",
      "model_name": "LayoutModel",
      "state": {
       "_model_module": "@jupyter-widgets/base",
       "_model_module_version": "1.2.0",
       "_model_name": "LayoutModel",
       "_view_count": null,
       "_view_module": "@jupyter-widgets/base",
       "_view_module_version": "1.2.0",
       "_view_name": "LayoutView",
       "align_content": null,
       "align_items": null,
       "align_self": null,
       "border": null,
       "bottom": null,
       "display": null,
       "flex": null,
       "flex_flow": null,
       "grid_area": null,
       "grid_auto_columns": null,
       "grid_auto_flow": null,
       "grid_auto_rows": null,
       "grid_column": null,
       "grid_gap": null,
       "grid_row": null,
       "grid_template_areas": null,
       "grid_template_columns": null,
       "grid_template_rows": null,
       "height": null,
       "justify_content": null,
       "justify_items": null,
       "left": null,
       "margin": null,
       "max_height": null,
       "max_width": null,
       "min_height": null,
       "min_width": null,
       "object_fit": null,
       "object_position": null,
       "order": null,
       "overflow": null,
       "overflow_x": null,
       "overflow_y": null,
       "padding": null,
       "right": null,
       "top": null,
       "visibility": null,
       "width": null
      }
     },
     "371bdb5da2564848b94b9bfae175a685": {
      "model_module": "@jupyter-widgets/controls",
      "model_module_version": "1.5.0",
      "model_name": "DescriptionStyleModel",
      "state": {
       "_model_module": "@jupyter-widgets/controls",
       "_model_module_version": "1.5.0",
       "_model_name": "DescriptionStyleModel",
       "_view_count": null,
       "_view_module": "@jupyter-widgets/base",
       "_view_module_version": "1.2.0",
       "_view_name": "StyleView",
       "description_width": ""
      }
     },
     "4118b71c21f543ec9de6b2c790135c13": {
      "model_module": "@jupyter-widgets/base",
      "model_module_version": "1.2.0",
      "model_name": "LayoutModel",
      "state": {
       "_model_module": "@jupyter-widgets/base",
       "_model_module_version": "1.2.0",
       "_model_name": "LayoutModel",
       "_view_count": null,
       "_view_module": "@jupyter-widgets/base",
       "_view_module_version": "1.2.0",
       "_view_name": "LayoutView",
       "align_content": null,
       "align_items": null,
       "align_self": null,
       "border": null,
       "bottom": null,
       "display": null,
       "flex": null,
       "flex_flow": null,
       "grid_area": null,
       "grid_auto_columns": null,
       "grid_auto_flow": null,
       "grid_auto_rows": null,
       "grid_column": null,
       "grid_gap": null,
       "grid_row": null,
       "grid_template_areas": null,
       "grid_template_columns": null,
       "grid_template_rows": null,
       "height": null,
       "justify_content": null,
       "justify_items": null,
       "left": null,
       "margin": null,
       "max_height": null,
       "max_width": null,
       "min_height": null,
       "min_width": null,
       "object_fit": null,
       "object_position": null,
       "order": null,
       "overflow": null,
       "overflow_x": null,
       "overflow_y": null,
       "padding": null,
       "right": null,
       "top": null,
       "visibility": null,
       "width": null
      }
     },
     "452434068b9e4adf9054972807aa5d3a": {
      "model_module": "@jupyter-widgets/controls",
      "model_module_version": "1.5.0",
      "model_name": "HTMLModel",
      "state": {
       "_dom_classes": [],
       "_model_module": "@jupyter-widgets/controls",
       "_model_module_version": "1.5.0",
       "_model_name": "HTMLModel",
       "_view_count": null,
       "_view_module": "@jupyter-widgets/controls",
       "_view_module_version": "1.5.0",
       "_view_name": "HTMLView",
       "description": "",
       "description_tooltip": null,
       "layout": "IPY_MODEL_e601719450e54f3892df5708ffadb765",
       "placeholder": "​",
       "style": "IPY_MODEL_814e966c1f0441c88e2d3d009157632f",
       "value": " 1.96M/1.96M [00:00&lt;00:00, 2.85MB/s]"
      }
     },
     "5450ee23bbff4011abb4583775c66e21": {
      "model_module": "@jupyter-widgets/controls",
      "model_module_version": "1.5.0",
      "model_name": "HBoxModel",
      "state": {
       "_dom_classes": [],
       "_model_module": "@jupyter-widgets/controls",
       "_model_module_version": "1.5.0",
       "_model_name": "HBoxModel",
       "_view_count": null,
       "_view_module": "@jupyter-widgets/controls",
       "_view_module_version": "1.5.0",
       "_view_name": "HBoxView",
       "box_style": "",
       "children": [
        "IPY_MODEL_9172a981c6af4ac1843fd5c02842a962",
        "IPY_MODEL_85ac00affc0a4cbb8abf3e9a310e6232",
        "IPY_MODEL_1ca84d9d2ee1436d8455da6e27e1b5e3"
       ],
       "layout": "IPY_MODEL_a8904882031446afb7109ba08eb35889"
      }
     },
     "593f8f62e63e4704bc7cd961d723c715": {
      "model_module": "@jupyter-widgets/controls",
      "model_module_version": "1.5.0",
      "model_name": "DescriptionStyleModel",
      "state": {
       "_model_module": "@jupyter-widgets/controls",
       "_model_module_version": "1.5.0",
       "_model_name": "DescriptionStyleModel",
       "_view_count": null,
       "_view_module": "@jupyter-widgets/base",
       "_view_module_version": "1.2.0",
       "_view_name": "StyleView",
       "description_width": ""
      }
     },
     "60a8711eff264d39a1b387e0d8c63b9c": {
      "model_module": "@jupyter-widgets/controls",
      "model_module_version": "1.5.0",
      "model_name": "DescriptionStyleModel",
      "state": {
       "_model_module": "@jupyter-widgets/controls",
       "_model_module_version": "1.5.0",
       "_model_name": "DescriptionStyleModel",
       "_view_count": null,
       "_view_module": "@jupyter-widgets/base",
       "_view_module_version": "1.2.0",
       "_view_name": "StyleView",
       "description_width": ""
      }
     },
     "6934622076104b2daf21d0703d5756b4": {
      "model_module": "@jupyter-widgets/controls",
      "model_module_version": "1.5.0",
      "model_name": "DescriptionStyleModel",
      "state": {
       "_model_module": "@jupyter-widgets/controls",
       "_model_module_version": "1.5.0",
       "_model_name": "DescriptionStyleModel",
       "_view_count": null,
       "_view_module": "@jupyter-widgets/base",
       "_view_module_version": "1.2.0",
       "_view_name": "StyleView",
       "description_width": ""
      }
     },
     "6dd69215bd054da09e4c6abb15c03c57": {
      "model_module": "@jupyter-widgets/controls",
      "model_module_version": "1.5.0",
      "model_name": "HBoxModel",
      "state": {
       "_dom_classes": [],
       "_model_module": "@jupyter-widgets/controls",
       "_model_module_version": "1.5.0",
       "_model_name": "HBoxModel",
       "_view_count": null,
       "_view_module": "@jupyter-widgets/controls",
       "_view_module_version": "1.5.0",
       "_view_name": "HBoxView",
       "box_style": "",
       "children": [
        "IPY_MODEL_a244cf25a6744338a5c7df092116f744",
        "IPY_MODEL_8e6e2da69b014c819775ba339e014ada",
        "IPY_MODEL_452434068b9e4adf9054972807aa5d3a"
       ],
       "layout": "IPY_MODEL_91c76a52d72245548085bb962c8f9673"
      }
     },
     "7210664bc0024da1a4138436d266af04": {
      "model_module": "@jupyter-widgets/controls",
      "model_module_version": "1.5.0",
      "model_name": "DescriptionStyleModel",
      "state": {
       "_model_module": "@jupyter-widgets/controls",
       "_model_module_version": "1.5.0",
       "_model_name": "DescriptionStyleModel",
       "_view_count": null,
       "_view_module": "@jupyter-widgets/base",
       "_view_module_version": "1.2.0",
       "_view_name": "StyleView",
       "description_width": ""
      }
     },
     "764b48e32bb74d28b278f5e8a50c328b": {
      "model_module": "@jupyter-widgets/controls",
      "model_module_version": "1.5.0",
      "model_name": "HTMLModel",
      "state": {
       "_dom_classes": [],
       "_model_module": "@jupyter-widgets/controls",
       "_model_module_version": "1.5.0",
       "_model_name": "HTMLModel",
       "_view_count": null,
       "_view_module": "@jupyter-widgets/controls",
       "_view_module_version": "1.5.0",
       "_view_name": "HTMLView",
       "description": "",
       "description_tooltip": null,
       "layout": "IPY_MODEL_a5555aec2cce4d758d0431cb175f61a3",
       "placeholder": "​",
       "style": "IPY_MODEL_593f8f62e63e4704bc7cd961d723c715",
       "value": "Downloading: 100%"
      }
     },
     "7a4c9ff021d94728b50bb90a2ca1bcab": {
      "model_module": "@jupyter-widgets/base",
      "model_module_version": "1.2.0",
      "model_name": "LayoutModel",
      "state": {
       "_model_module": "@jupyter-widgets/base",
       "_model_module_version": "1.2.0",
       "_model_name": "LayoutModel",
       "_view_count": null,
       "_view_module": "@jupyter-widgets/base",
       "_view_module_version": "1.2.0",
       "_view_name": "LayoutView",
       "align_content": null,
       "align_items": null,
       "align_self": null,
       "border": null,
       "bottom": null,
       "display": null,
       "flex": null,
       "flex_flow": null,
       "grid_area": null,
       "grid_auto_columns": null,
       "grid_auto_flow": null,
       "grid_auto_rows": null,
       "grid_column": null,
       "grid_gap": null,
       "grid_row": null,
       "grid_template_areas": null,
       "grid_template_columns": null,
       "grid_template_rows": null,
       "height": null,
       "justify_content": null,
       "justify_items": null,
       "left": null,
       "margin": null,
       "max_height": null,
       "max_width": null,
       "min_height": null,
       "min_width": null,
       "object_fit": null,
       "object_position": null,
       "order": null,
       "overflow": null,
       "overflow_x": null,
       "overflow_y": null,
       "padding": null,
       "right": null,
       "top": null,
       "visibility": null,
       "width": null
      }
     },
     "7dc629d145314359bb7364c605169c8e": {
      "model_module": "@jupyter-widgets/controls",
      "model_module_version": "1.5.0",
      "model_name": "HTMLModel",
      "state": {
       "_dom_classes": [],
       "_model_module": "@jupyter-widgets/controls",
       "_model_module_version": "1.5.0",
       "_model_name": "HTMLModel",
       "_view_count": null,
       "_view_module": "@jupyter-widgets/controls",
       "_view_module_version": "1.5.0",
       "_view_name": "HTMLView",
       "description": "",
       "description_tooltip": null,
       "layout": "IPY_MODEL_e2c96ed11c8f4cecb22e923c80e595db",
       "placeholder": "​",
       "style": "IPY_MODEL_7210664bc0024da1a4138436d266af04",
       "value": " 466/466 [00:00&lt;00:00, 18.7kB/s]"
      }
     },
     "814e966c1f0441c88e2d3d009157632f": {
      "model_module": "@jupyter-widgets/controls",
      "model_module_version": "1.5.0",
      "model_name": "DescriptionStyleModel",
      "state": {
       "_model_module": "@jupyter-widgets/controls",
       "_model_module_version": "1.5.0",
       "_model_name": "DescriptionStyleModel",
       "_view_count": null,
       "_view_module": "@jupyter-widgets/base",
       "_view_module_version": "1.2.0",
       "_view_name": "StyleView",
       "description_width": ""
      }
     },
     "84599e7af8fa460a8a31175572fa6563": {
      "model_module": "@jupyter-widgets/base",
      "model_module_version": "1.2.0",
      "model_name": "LayoutModel",
      "state": {
       "_model_module": "@jupyter-widgets/base",
       "_model_module_version": "1.2.0",
       "_model_name": "LayoutModel",
       "_view_count": null,
       "_view_module": "@jupyter-widgets/base",
       "_view_module_version": "1.2.0",
       "_view_name": "LayoutView",
       "align_content": null,
       "align_items": null,
       "align_self": null,
       "border": null,
       "bottom": null,
       "display": null,
       "flex": null,
       "flex_flow": null,
       "grid_area": null,
       "grid_auto_columns": null,
       "grid_auto_flow": null,
       "grid_auto_rows": null,
       "grid_column": null,
       "grid_gap": null,
       "grid_row": null,
       "grid_template_areas": null,
       "grid_template_columns": null,
       "grid_template_rows": null,
       "height": null,
       "justify_content": null,
       "justify_items": null,
       "left": null,
       "margin": null,
       "max_height": null,
       "max_width": null,
       "min_height": null,
       "min_width": null,
       "object_fit": null,
       "object_position": null,
       "order": null,
       "overflow": null,
       "overflow_x": null,
       "overflow_y": null,
       "padding": null,
       "right": null,
       "top": null,
       "visibility": null,
       "width": null
      }
     },
     "85ac00affc0a4cbb8abf3e9a310e6232": {
      "model_module": "@jupyter-widgets/controls",
      "model_module_version": "1.5.0",
      "model_name": "FloatProgressModel",
      "state": {
       "_dom_classes": [],
       "_model_module": "@jupyter-widgets/controls",
       "_model_module_version": "1.5.0",
       "_model_name": "FloatProgressModel",
       "_view_count": null,
       "_view_module": "@jupyter-widgets/controls",
       "_view_module_version": "1.5.0",
       "_view_name": "ProgressView",
       "bar_style": "success",
       "description": "",
       "description_tooltip": null,
       "layout": "IPY_MODEL_4118b71c21f543ec9de6b2c790135c13",
       "max": 995526.0,
       "min": 0.0,
       "orientation": "horizontal",
       "style": "IPY_MODEL_c91d1b5b959948f5b92dafc4a7309988",
       "value": 995526.0
      }
     },
     "8744d4eb50804d16bf62ccdbf1f24cf4": {
      "model_module": "@jupyter-widgets/base",
      "model_module_version": "1.2.0",
      "model_name": "LayoutModel",
      "state": {
       "_model_module": "@jupyter-widgets/base",
       "_model_module_version": "1.2.0",
       "_model_name": "LayoutModel",
       "_view_count": null,
       "_view_module": "@jupyter-widgets/base",
       "_view_module_version": "1.2.0",
       "_view_name": "LayoutView",
       "align_content": null,
       "align_items": null,
       "align_self": null,
       "border": null,
       "bottom": null,
       "display": null,
       "flex": null,
       "flex_flow": null,
       "grid_area": null,
       "grid_auto_columns": null,
       "grid_auto_flow": null,
       "grid_auto_rows": null,
       "grid_column": null,
       "grid_gap": null,
       "grid_row": null,
       "grid_template_areas": null,
       "grid_template_columns": null,
       "grid_template_rows": null,
       "height": null,
       "justify_content": null,
       "justify_items": null,
       "left": null,
       "margin": null,
       "max_height": null,
       "max_width": null,
       "min_height": null,
       "min_width": null,
       "object_fit": null,
       "object_position": null,
       "order": null,
       "overflow": null,
       "overflow_x": null,
       "overflow_y": null,
       "padding": null,
       "right": null,
       "top": null,
       "visibility": null,
       "width": null
      }
     },
     "8e6e2da69b014c819775ba339e014ada": {
      "model_module": "@jupyter-widgets/controls",
      "model_module_version": "1.5.0",
      "model_name": "FloatProgressModel",
      "state": {
       "_dom_classes": [],
       "_model_module": "@jupyter-widgets/controls",
       "_model_module_version": "1.5.0",
       "_model_name": "FloatProgressModel",
       "_view_count": null,
       "_view_module": "@jupyter-widgets/controls",
       "_view_module_version": "1.5.0",
       "_view_name": "ProgressView",
       "bar_style": "success",
       "description": "",
       "description_tooltip": null,
       "layout": "IPY_MODEL_fd2d304f51734a3ea3ada6d6b9410315",
       "max": 1961828.0,
       "min": 0.0,
       "orientation": "horizontal",
       "style": "IPY_MODEL_a4867124255c410591ffee69f33a33fa",
       "value": 1961828.0
      }
     },
     "90e71949db7840cab4f22642109de725": {
      "model_module": "@jupyter-widgets/controls",
      "model_module_version": "1.5.0",
      "model_name": "DescriptionStyleModel",
      "state": {
       "_model_module": "@jupyter-widgets/controls",
       "_model_module_version": "1.5.0",
       "_model_name": "DescriptionStyleModel",
       "_view_count": null,
       "_view_module": "@jupyter-widgets/base",
       "_view_module_version": "1.2.0",
       "_view_name": "StyleView",
       "description_width": ""
      }
     },
     "9172a981c6af4ac1843fd5c02842a962": {
      "model_module": "@jupyter-widgets/controls",
      "model_module_version": "1.5.0",
      "model_name": "HTMLModel",
      "state": {
       "_dom_classes": [],
       "_model_module": "@jupyter-widgets/controls",
       "_model_module_version": "1.5.0",
       "_model_name": "HTMLModel",
       "_view_count": null,
       "_view_module": "@jupyter-widgets/controls",
       "_view_module_version": "1.5.0",
       "_view_name": "HTMLView",
       "description": "",
       "description_tooltip": null,
       "layout": "IPY_MODEL_1381053e46e645df9c91eb65cedbfabf",
       "placeholder": "​",
       "style": "IPY_MODEL_371bdb5da2564848b94b9bfae175a685",
       "value": "Downloading: 100%"
      }
     },
     "91c76a52d72245548085bb962c8f9673": {
      "model_module": "@jupyter-widgets/base",
      "model_module_version": "1.2.0",
      "model_name": "LayoutModel",
      "state": {
       "_model_module": "@jupyter-widgets/base",
       "_model_module_version": "1.2.0",
       "_model_name": "LayoutModel",
       "_view_count": null,
       "_view_module": "@jupyter-widgets/base",
       "_view_module_version": "1.2.0",
       "_view_name": "LayoutView",
       "align_content": null,
       "align_items": null,
       "align_self": null,
       "border": null,
       "bottom": null,
       "display": null,
       "flex": null,
       "flex_flow": null,
       "grid_area": null,
       "grid_auto_columns": null,
       "grid_auto_flow": null,
       "grid_auto_rows": null,
       "grid_column": null,
       "grid_gap": null,
       "grid_row": null,
       "grid_template_areas": null,
       "grid_template_columns": null,
       "grid_template_rows": null,
       "height": null,
       "justify_content": null,
       "justify_items": null,
       "left": null,
       "margin": null,
       "max_height": null,
       "max_width": null,
       "min_height": null,
       "min_width": null,
       "object_fit": null,
       "object_position": null,
       "order": null,
       "overflow": null,
       "overflow_x": null,
       "overflow_y": null,
       "padding": null,
       "right": null,
       "top": null,
       "visibility": null,
       "width": null
      }
     },
     "981eb5cfe1194cada0cc478ebe5123cb": {
      "model_module": "@jupyter-widgets/controls",
      "model_module_version": "1.5.0",
      "model_name": "HTMLModel",
      "state": {
       "_dom_classes": [],
       "_model_module": "@jupyter-widgets/controls",
       "_model_module_version": "1.5.0",
       "_model_name": "HTMLModel",
       "_view_count": null,
       "_view_module": "@jupyter-widgets/controls",
       "_view_module_version": "1.5.0",
       "_view_name": "HTMLView",
       "description": "",
       "description_tooltip": null,
       "layout": "IPY_MODEL_f353a4762581425481a29479dd7b319d",
       "placeholder": "​",
       "style": "IPY_MODEL_90e71949db7840cab4f22642109de725",
       "value": "Downloading: 100%"
      }
     },
     "98aa233c8f904ad19d83370eb7c48be2": {
      "model_module": "@jupyter-widgets/controls",
      "model_module_version": "1.5.0",
      "model_name": "FloatProgressModel",
      "state": {
       "_dom_classes": [],
       "_model_module": "@jupyter-widgets/controls",
       "_model_module_version": "1.5.0",
       "_model_name": "FloatProgressModel",
       "_view_count": null,
       "_view_module": "@jupyter-widgets/controls",
       "_view_module_version": "1.5.0",
       "_view_name": "ProgressView",
       "bar_style": "success",
       "description": "",
       "description_tooltip": null,
       "layout": "IPY_MODEL_b0fb42d2f9bf4acd8d1eaa4f09ef18e1",
       "max": 910749124.0,
       "min": 0.0,
       "orientation": "horizontal",
       "style": "IPY_MODEL_bf0c2839ee8240ab9f86de043a594774",
       "value": 910749124.0
      }
     },
     "9a8386f11522486a82d406d40e30dbee": {
      "model_module": "@jupyter-widgets/base",
      "model_module_version": "1.2.0",
      "model_name": "LayoutModel",
      "state": {
       "_model_module": "@jupyter-widgets/base",
       "_model_module_version": "1.2.0",
       "_model_name": "LayoutModel",
       "_view_count": null,
       "_view_module": "@jupyter-widgets/base",
       "_view_module_version": "1.2.0",
       "_view_name": "LayoutView",
       "align_content": null,
       "align_items": null,
       "align_self": null,
       "border": null,
       "bottom": null,
       "display": null,
       "flex": null,
       "flex_flow": null,
       "grid_area": null,
       "grid_auto_columns": null,
       "grid_auto_flow": null,
       "grid_auto_rows": null,
       "grid_column": null,
       "grid_gap": null,
       "grid_row": null,
       "grid_template_areas": null,
       "grid_template_columns": null,
       "grid_template_rows": null,
       "height": null,
       "justify_content": null,
       "justify_items": null,
       "left": null,
       "margin": null,
       "max_height": null,
       "max_width": null,
       "min_height": null,
       "min_width": null,
       "object_fit": null,
       "object_position": null,
       "order": null,
       "overflow": null,
       "overflow_x": null,
       "overflow_y": null,
       "padding": null,
       "right": null,
       "top": null,
       "visibility": null,
       "width": null
      }
     },
     "9f2ac5e918924c829ef26ceb847b14f0": {
      "model_module": "@jupyter-widgets/controls",
      "model_module_version": "1.5.0",
      "model_name": "FloatProgressModel",
      "state": {
       "_dom_classes": [],
       "_model_module": "@jupyter-widgets/controls",
       "_model_module_version": "1.5.0",
       "_model_name": "FloatProgressModel",
       "_view_count": null,
       "_view_module": "@jupyter-widgets/controls",
       "_view_module_version": "1.5.0",
       "_view_name": "ProgressView",
       "bar_style": "success",
       "description": "",
       "description_tooltip": null,
       "layout": "IPY_MODEL_c1cea9b2285e44ab8a8d73aaf5d78af1",
       "max": 29.0,
       "min": 0.0,
       "orientation": "horizontal",
       "style": "IPY_MODEL_b3466deccc374a92a2f376515e20e70e",
       "value": 29.0
      }
     },
     "9fe8a26645b84d1c843a6f82ef8b8a45": {
      "model_module": "@jupyter-widgets/controls",
      "model_module_version": "1.5.0",
      "model_name": "FloatProgressModel",
      "state": {
       "_dom_classes": [],
       "_model_module": "@jupyter-widgets/controls",
       "_model_module_version": "1.5.0",
       "_model_name": "FloatProgressModel",
       "_view_count": null,
       "_view_module": "@jupyter-widgets/controls",
       "_view_module_version": "1.5.0",
       "_view_name": "ProgressView",
       "bar_style": "success",
       "description": "",
       "description_tooltip": null,
       "layout": "IPY_MODEL_c46269ca01d94f94980ec7eb68139793",
       "max": 466.0,
       "min": 0.0,
       "orientation": "horizontal",
       "style": "IPY_MODEL_bd14b2e05f0746cf9762ee44348cae7a",
       "value": 466.0
      }
     },
     "a244cf25a6744338a5c7df092116f744": {
      "model_module": "@jupyter-widgets/controls",
      "model_module_version": "1.5.0",
      "model_name": "HTMLModel",
      "state": {
       "_dom_classes": [],
       "_model_module": "@jupyter-widgets/controls",
       "_model_module_version": "1.5.0",
       "_model_name": "HTMLModel",
       "_view_count": null,
       "_view_module": "@jupyter-widgets/controls",
       "_view_module_version": "1.5.0",
       "_view_name": "HTMLView",
       "description": "",
       "description_tooltip": null,
       "layout": "IPY_MODEL_8744d4eb50804d16bf62ccdbf1f24cf4",
       "placeholder": "​",
       "style": "IPY_MODEL_60a8711eff264d39a1b387e0d8c63b9c",
       "value": "Downloading: 100%"
      }
     },
     "a4867124255c410591ffee69f33a33fa": {
      "model_module": "@jupyter-widgets/controls",
      "model_module_version": "1.5.0",
      "model_name": "ProgressStyleModel",
      "state": {
       "_model_module": "@jupyter-widgets/controls",
       "_model_module_version": "1.5.0",
       "_model_name": "ProgressStyleModel",
       "_view_count": null,
       "_view_module": "@jupyter-widgets/base",
       "_view_module_version": "1.2.0",
       "_view_name": "StyleView",
       "bar_color": null,
       "description_width": ""
      }
     },
     "a5555aec2cce4d758d0431cb175f61a3": {
      "model_module": "@jupyter-widgets/base",
      "model_module_version": "1.2.0",
      "model_name": "LayoutModel",
      "state": {
       "_model_module": "@jupyter-widgets/base",
       "_model_module_version": "1.2.0",
       "_model_name": "LayoutModel",
       "_view_count": null,
       "_view_module": "@jupyter-widgets/base",
       "_view_module_version": "1.2.0",
       "_view_name": "LayoutView",
       "align_content": null,
       "align_items": null,
       "align_self": null,
       "border": null,
       "bottom": null,
       "display": null,
       "flex": null,
       "flex_flow": null,
       "grid_area": null,
       "grid_auto_columns": null,
       "grid_auto_flow": null,
       "grid_auto_rows": null,
       "grid_column": null,
       "grid_gap": null,
       "grid_row": null,
       "grid_template_areas": null,
       "grid_template_columns": null,
       "grid_template_rows": null,
       "height": null,
       "justify_content": null,
       "justify_items": null,
       "left": null,
       "margin": null,
       "max_height": null,
       "max_width": null,
       "min_height": null,
       "min_width": null,
       "object_fit": null,
       "object_position": null,
       "order": null,
       "overflow": null,
       "overflow_x": null,
       "overflow_y": null,
       "padding": null,
       "right": null,
       "top": null,
       "visibility": null,
       "width": null
      }
     },
     "a8904882031446afb7109ba08eb35889": {
      "model_module": "@jupyter-widgets/base",
      "model_module_version": "1.2.0",
      "model_name": "LayoutModel",
      "state": {
       "_model_module": "@jupyter-widgets/base",
       "_model_module_version": "1.2.0",
       "_model_name": "LayoutModel",
       "_view_count": null,
       "_view_module": "@jupyter-widgets/base",
       "_view_module_version": "1.2.0",
       "_view_name": "LayoutView",
       "align_content": null,
       "align_items": null,
       "align_self": null,
       "border": null,
       "bottom": null,
       "display": null,
       "flex": null,
       "flex_flow": null,
       "grid_area": null,
       "grid_auto_columns": null,
       "grid_auto_flow": null,
       "grid_auto_rows": null,
       "grid_column": null,
       "grid_gap": null,
       "grid_row": null,
       "grid_template_areas": null,
       "grid_template_columns": null,
       "grid_template_rows": null,
       "height": null,
       "justify_content": null,
       "justify_items": null,
       "left": null,
       "margin": null,
       "max_height": null,
       "max_width": null,
       "min_height": null,
       "min_width": null,
       "object_fit": null,
       "object_position": null,
       "order": null,
       "overflow": null,
       "overflow_x": null,
       "overflow_y": null,
       "padding": null,
       "right": null,
       "top": null,
       "visibility": null,
       "width": null
      }
     },
     "aa078caad5e44e61862744a141f90d94": {
      "model_module": "@jupyter-widgets/controls",
      "model_module_version": "1.5.0",
      "model_name": "DescriptionStyleModel",
      "state": {
       "_model_module": "@jupyter-widgets/controls",
       "_model_module_version": "1.5.0",
       "_model_name": "DescriptionStyleModel",
       "_view_count": null,
       "_view_module": "@jupyter-widgets/base",
       "_view_module_version": "1.2.0",
       "_view_name": "StyleView",
       "description_width": ""
      }
     },
     "b0fb42d2f9bf4acd8d1eaa4f09ef18e1": {
      "model_module": "@jupyter-widgets/base",
      "model_module_version": "1.2.0",
      "model_name": "LayoutModel",
      "state": {
       "_model_module": "@jupyter-widgets/base",
       "_model_module_version": "1.2.0",
       "_model_name": "LayoutModel",
       "_view_count": null,
       "_view_module": "@jupyter-widgets/base",
       "_view_module_version": "1.2.0",
       "_view_name": "LayoutView",
       "align_content": null,
       "align_items": null,
       "align_self": null,
       "border": null,
       "bottom": null,
       "display": null,
       "flex": null,
       "flex_flow": null,
       "grid_area": null,
       "grid_auto_columns": null,
       "grid_auto_flow": null,
       "grid_auto_rows": null,
       "grid_column": null,
       "grid_gap": null,
       "grid_row": null,
       "grid_template_areas": null,
       "grid_template_columns": null,
       "grid_template_rows": null,
       "height": null,
       "justify_content": null,
       "justify_items": null,
       "left": null,
       "margin": null,
       "max_height": null,
       "max_width": null,
       "min_height": null,
       "min_width": null,
       "object_fit": null,
       "object_position": null,
       "order": null,
       "overflow": null,
       "overflow_x": null,
       "overflow_y": null,
       "padding": null,
       "right": null,
       "top": null,
       "visibility": null,
       "width": null
      }
     },
     "b3466deccc374a92a2f376515e20e70e": {
      "model_module": "@jupyter-widgets/controls",
      "model_module_version": "1.5.0",
      "model_name": "ProgressStyleModel",
      "state": {
       "_model_module": "@jupyter-widgets/controls",
       "_model_module_version": "1.5.0",
       "_model_name": "ProgressStyleModel",
       "_view_count": null,
       "_view_module": "@jupyter-widgets/base",
       "_view_module_version": "1.2.0",
       "_view_name": "StyleView",
       "bar_color": null,
       "description_width": ""
      }
     },
     "bd14b2e05f0746cf9762ee44348cae7a": {
      "model_module": "@jupyter-widgets/controls",
      "model_module_version": "1.5.0",
      "model_name": "ProgressStyleModel",
      "state": {
       "_model_module": "@jupyter-widgets/controls",
       "_model_module_version": "1.5.0",
       "_model_name": "ProgressStyleModel",
       "_view_count": null,
       "_view_module": "@jupyter-widgets/base",
       "_view_module_version": "1.2.0",
       "_view_name": "StyleView",
       "bar_color": null,
       "description_width": ""
      }
     },
     "bf0c2839ee8240ab9f86de043a594774": {
      "model_module": "@jupyter-widgets/controls",
      "model_module_version": "1.5.0",
      "model_name": "ProgressStyleModel",
      "state": {
       "_model_module": "@jupyter-widgets/controls",
       "_model_module_version": "1.5.0",
       "_model_name": "ProgressStyleModel",
       "_view_count": null,
       "_view_module": "@jupyter-widgets/base",
       "_view_module_version": "1.2.0",
       "_view_name": "StyleView",
       "bar_color": null,
       "description_width": ""
      }
     },
     "c1cea9b2285e44ab8a8d73aaf5d78af1": {
      "model_module": "@jupyter-widgets/base",
      "model_module_version": "1.2.0",
      "model_name": "LayoutModel",
      "state": {
       "_model_module": "@jupyter-widgets/base",
       "_model_module_version": "1.2.0",
       "_model_name": "LayoutModel",
       "_view_count": null,
       "_view_module": "@jupyter-widgets/base",
       "_view_module_version": "1.2.0",
       "_view_name": "LayoutView",
       "align_content": null,
       "align_items": null,
       "align_self": null,
       "border": null,
       "bottom": null,
       "display": null,
       "flex": null,
       "flex_flow": null,
       "grid_area": null,
       "grid_auto_columns": null,
       "grid_auto_flow": null,
       "grid_auto_rows": null,
       "grid_column": null,
       "grid_gap": null,
       "grid_row": null,
       "grid_template_areas": null,
       "grid_template_columns": null,
       "grid_template_rows": null,
       "height": null,
       "justify_content": null,
       "justify_items": null,
       "left": null,
       "margin": null,
       "max_height": null,
       "max_width": null,
       "min_height": null,
       "min_width": null,
       "object_fit": null,
       "object_position": null,
       "order": null,
       "overflow": null,
       "overflow_x": null,
       "overflow_y": null,
       "padding": null,
       "right": null,
       "top": null,
       "visibility": null,
       "width": null
      }
     },
     "c46269ca01d94f94980ec7eb68139793": {
      "model_module": "@jupyter-widgets/base",
      "model_module_version": "1.2.0",
      "model_name": "LayoutModel",
      "state": {
       "_model_module": "@jupyter-widgets/base",
       "_model_module_version": "1.2.0",
       "_model_name": "LayoutModel",
       "_view_count": null,
       "_view_module": "@jupyter-widgets/base",
       "_view_module_version": "1.2.0",
       "_view_name": "LayoutView",
       "align_content": null,
       "align_items": null,
       "align_self": null,
       "border": null,
       "bottom": null,
       "display": null,
       "flex": null,
       "flex_flow": null,
       "grid_area": null,
       "grid_auto_columns": null,
       "grid_auto_flow": null,
       "grid_auto_rows": null,
       "grid_column": null,
       "grid_gap": null,
       "grid_row": null,
       "grid_template_areas": null,
       "grid_template_columns": null,
       "grid_template_rows": null,
       "height": null,
       "justify_content": null,
       "justify_items": null,
       "left": null,
       "margin": null,
       "max_height": null,
       "max_width": null,
       "min_height": null,
       "min_width": null,
       "object_fit": null,
       "object_position": null,
       "order": null,
       "overflow": null,
       "overflow_x": null,
       "overflow_y": null,
       "padding": null,
       "right": null,
       "top": null,
       "visibility": null,
       "width": null
      }
     },
     "c91d1b5b959948f5b92dafc4a7309988": {
      "model_module": "@jupyter-widgets/controls",
      "model_module_version": "1.5.0",
      "model_name": "ProgressStyleModel",
      "state": {
       "_model_module": "@jupyter-widgets/controls",
       "_model_module_version": "1.5.0",
       "_model_name": "ProgressStyleModel",
       "_view_count": null,
       "_view_module": "@jupyter-widgets/base",
       "_view_module_version": "1.2.0",
       "_view_name": "StyleView",
       "bar_color": null,
       "description_width": ""
      }
     },
     "cfaa4fb75c114263a965ede1b1186cdf": {
      "model_module": "@jupyter-widgets/controls",
      "model_module_version": "1.5.0",
      "model_name": "DescriptionStyleModel",
      "state": {
       "_model_module": "@jupyter-widgets/controls",
       "_model_module_version": "1.5.0",
       "_model_name": "DescriptionStyleModel",
       "_view_count": null,
       "_view_module": "@jupyter-widgets/base",
       "_view_module_version": "1.2.0",
       "_view_name": "StyleView",
       "description_width": ""
      }
     },
     "d5ceb28bc9ce4e698f80ce910b465785": {
      "model_module": "@jupyter-widgets/controls",
      "model_module_version": "1.5.0",
      "model_name": "HBoxModel",
      "state": {
       "_dom_classes": [],
       "_model_module": "@jupyter-widgets/controls",
       "_model_module_version": "1.5.0",
       "_model_name": "HBoxModel",
       "_view_count": null,
       "_view_module": "@jupyter-widgets/controls",
       "_view_module_version": "1.5.0",
       "_view_name": "HBoxView",
       "box_style": "",
       "children": [
        "IPY_MODEL_981eb5cfe1194cada0cc478ebe5123cb",
        "IPY_MODEL_9f2ac5e918924c829ef26ceb847b14f0",
        "IPY_MODEL_1de641820b25430a99487a000081b622"
       ],
       "layout": "IPY_MODEL_84599e7af8fa460a8a31175572fa6563"
      }
     },
     "d88724d9a982497fad3006d29c7ba2a9": {
      "model_module": "@jupyter-widgets/base",
      "model_module_version": "1.2.0",
      "model_name": "LayoutModel",
      "state": {
       "_model_module": "@jupyter-widgets/base",
       "_model_module_version": "1.2.0",
       "_model_name": "LayoutModel",
       "_view_count": null,
       "_view_module": "@jupyter-widgets/base",
       "_view_module_version": "1.2.0",
       "_view_name": "LayoutView",
       "align_content": null,
       "align_items": null,
       "align_self": null,
       "border": null,
       "bottom": null,
       "display": null,
       "flex": null,
       "flex_flow": null,
       "grid_area": null,
       "grid_auto_columns": null,
       "grid_auto_flow": null,
       "grid_auto_rows": null,
       "grid_column": null,
       "grid_gap": null,
       "grid_row": null,
       "grid_template_areas": null,
       "grid_template_columns": null,
       "grid_template_rows": null,
       "height": null,
       "justify_content": null,
       "justify_items": null,
       "left": null,
       "margin": null,
       "max_height": null,
       "max_width": null,
       "min_height": null,
       "min_width": null,
       "object_fit": null,
       "object_position": null,
       "order": null,
       "overflow": null,
       "overflow_x": null,
       "overflow_y": null,
       "padding": null,
       "right": null,
       "top": null,
       "visibility": null,
       "width": null
      }
     },
     "e2b57da048534ffead04904eec057a7c": {
      "model_module": "@jupyter-widgets/controls",
      "model_module_version": "1.5.0",
      "model_name": "HTMLModel",
      "state": {
       "_dom_classes": [],
       "_model_module": "@jupyter-widgets/controls",
       "_model_module_version": "1.5.0",
       "_model_name": "HTMLModel",
       "_view_count": null,
       "_view_module": "@jupyter-widgets/controls",
       "_view_module_version": "1.5.0",
       "_view_name": "HTMLView",
       "description": "",
       "description_tooltip": null,
       "layout": "IPY_MODEL_9a8386f11522486a82d406d40e30dbee",
       "placeholder": "​",
       "style": "IPY_MODEL_aa078caad5e44e61862744a141f90d94",
       "value": "Downloading: 100%"
      }
     },
     "e2c96ed11c8f4cecb22e923c80e595db": {
      "model_module": "@jupyter-widgets/base",
      "model_module_version": "1.2.0",
      "model_name": "LayoutModel",
      "state": {
       "_model_module": "@jupyter-widgets/base",
       "_model_module_version": "1.2.0",
       "_model_name": "LayoutModel",
       "_view_count": null,
       "_view_module": "@jupyter-widgets/base",
       "_view_module_version": "1.2.0",
       "_view_name": "LayoutView",
       "align_content": null,
       "align_items": null,
       "align_self": null,
       "border": null,
       "bottom": null,
       "display": null,
       "flex": null,
       "flex_flow": null,
       "grid_area": null,
       "grid_auto_columns": null,
       "grid_auto_flow": null,
       "grid_auto_rows": null,
       "grid_column": null,
       "grid_gap": null,
       "grid_row": null,
       "grid_template_areas": null,
       "grid_template_columns": null,
       "grid_template_rows": null,
       "height": null,
       "justify_content": null,
       "justify_items": null,
       "left": null,
       "margin": null,
       "max_height": null,
       "max_width": null,
       "min_height": null,
       "min_width": null,
       "object_fit": null,
       "object_position": null,
       "order": null,
       "overflow": null,
       "overflow_x": null,
       "overflow_y": null,
       "padding": null,
       "right": null,
       "top": null,
       "visibility": null,
       "width": null
      }
     },
     "e601719450e54f3892df5708ffadb765": {
      "model_module": "@jupyter-widgets/base",
      "model_module_version": "1.2.0",
      "model_name": "LayoutModel",
      "state": {
       "_model_module": "@jupyter-widgets/base",
       "_model_module_version": "1.2.0",
       "_model_name": "LayoutModel",
       "_view_count": null,
       "_view_module": "@jupyter-widgets/base",
       "_view_module_version": "1.2.0",
       "_view_name": "LayoutView",
       "align_content": null,
       "align_items": null,
       "align_self": null,
       "border": null,
       "bottom": null,
       "display": null,
       "flex": null,
       "flex_flow": null,
       "grid_area": null,
       "grid_auto_columns": null,
       "grid_auto_flow": null,
       "grid_auto_rows": null,
       "grid_column": null,
       "grid_gap": null,
       "grid_row": null,
       "grid_template_areas": null,
       "grid_template_columns": null,
       "grid_template_rows": null,
       "height": null,
       "justify_content": null,
       "justify_items": null,
       "left": null,
       "margin": null,
       "max_height": null,
       "max_width": null,
       "min_height": null,
       "min_width": null,
       "object_fit": null,
       "object_position": null,
       "order": null,
       "overflow": null,
       "overflow_x": null,
       "overflow_y": null,
       "padding": null,
       "right": null,
       "top": null,
       "visibility": null,
       "width": null
      }
     },
     "f353a4762581425481a29479dd7b319d": {
      "model_module": "@jupyter-widgets/base",
      "model_module_version": "1.2.0",
      "model_name": "LayoutModel",
      "state": {
       "_model_module": "@jupyter-widgets/base",
       "_model_module_version": "1.2.0",
       "_model_name": "LayoutModel",
       "_view_count": null,
       "_view_module": "@jupyter-widgets/base",
       "_view_module_version": "1.2.0",
       "_view_name": "LayoutView",
       "align_content": null,
       "align_items": null,
       "align_self": null,
       "border": null,
       "bottom": null,
       "display": null,
       "flex": null,
       "flex_flow": null,
       "grid_area": null,
       "grid_auto_columns": null,
       "grid_auto_flow": null,
       "grid_auto_rows": null,
       "grid_column": null,
       "grid_gap": null,
       "grid_row": null,
       "grid_template_areas": null,
       "grid_template_columns": null,
       "grid_template_rows": null,
       "height": null,
       "justify_content": null,
       "justify_items": null,
       "left": null,
       "margin": null,
       "max_height": null,
       "max_width": null,
       "min_height": null,
       "min_width": null,
       "object_fit": null,
       "object_position": null,
       "order": null,
       "overflow": null,
       "overflow_x": null,
       "overflow_y": null,
       "padding": null,
       "right": null,
       "top": null,
       "visibility": null,
       "width": null
      }
     },
     "fd2d304f51734a3ea3ada6d6b9410315": {
      "model_module": "@jupyter-widgets/base",
      "model_module_version": "1.2.0",
      "model_name": "LayoutModel",
      "state": {
       "_model_module": "@jupyter-widgets/base",
       "_model_module_version": "1.2.0",
       "_model_name": "LayoutModel",
       "_view_count": null,
       "_view_module": "@jupyter-widgets/base",
       "_view_module_version": "1.2.0",
       "_view_name": "LayoutView",
       "align_content": null,
       "align_items": null,
       "align_self": null,
       "border": null,
       "bottom": null,
       "display": null,
       "flex": null,
       "flex_flow": null,
       "grid_area": null,
       "grid_auto_columns": null,
       "grid_auto_flow": null,
       "grid_auto_rows": null,
       "grid_column": null,
       "grid_gap": null,
       "grid_row": null,
       "grid_template_areas": null,
       "grid_template_columns": null,
       "grid_template_rows": null,
       "height": null,
       "justify_content": null,
       "justify_items": null,
       "left": null,
       "margin": null,
       "max_height": null,
       "max_width": null,
       "min_height": null,
       "min_width": null,
       "object_fit": null,
       "object_position": null,
       "order": null,
       "overflow": null,
       "overflow_x": null,
       "overflow_y": null,
       "padding": null,
       "right": null,
       "top": null,
       "visibility": null,
       "width": null
      }
     },
     "fe37ec6382d7454e9c4453c9b5f00e08": {
      "model_module": "@jupyter-widgets/controls",
      "model_module_version": "1.5.0",
      "model_name": "HBoxModel",
      "state": {
       "_dom_classes": [],
       "_model_module": "@jupyter-widgets/controls",
       "_model_module_version": "1.5.0",
       "_model_name": "HBoxModel",
       "_view_count": null,
       "_view_module": "@jupyter-widgets/controls",
       "_view_module_version": "1.5.0",
       "_view_name": "HBoxView",
       "box_style": "",
       "children": [
        "IPY_MODEL_e2b57da048534ffead04904eec057a7c",
        "IPY_MODEL_9fe8a26645b84d1c843a6f82ef8b8a45",
        "IPY_MODEL_7dc629d145314359bb7364c605169c8e"
       ],
       "layout": "IPY_MODEL_2fa2853a4738422c8cf5ee298414b191"
      }
     }
    },
    "version_major": 2,
    "version_minor": 0
   }
  }
 },
 "nbformat": 4,
 "nbformat_minor": 5
}
